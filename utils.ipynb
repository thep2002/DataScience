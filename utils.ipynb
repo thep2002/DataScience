{
 "cells": [
  {
   "cell_type": "code",
   "execution_count": null,
   "metadata": {},
   "outputs": [],
   "source": [
    "import pandas as pd\n",
    "\n",
    "#  input : @cars_data : pandas dataframe\n",
    "def show_null_infor(cars_data):\n",
    "    null_info = pd.DataFrame({'Null count': cars_data.isnull().sum(), 'Null ratio': cars_data.isnull().sum()/len(cars_data)})\n",
    "    null_info.sort_values(by='Null ratio', ascending=False, inplace=True)\n",
    "    null_info\n"
   ]
  },
  {
   "cell_type": "markdown",
   "metadata": {},
   "source": [
    "(32,\n",
    " Index(['accelerationTime', 'bodyType', 'brand', 'cargoVolume', 'curbWeight',\n",
    "        'driveWheelConfiguration', 'eLabel', 'emissionsCO2', 'engineCapacity',\n",
    "        'fuelCapacity', 'fuelConsumption', 'fuelType', 'height', 'length',\n",
    "        'model', 'modelDate', 'numberOfDoors', 'numberOfForwardGears',\n",
    "        'payload', 'price', 'roofLoad', 'seatingCapacity', 'speed', 'torque',\n",
    "        'vEengineDisplacement', 'vEenginePower', 'vEengineType', 'vEfuelType',\n",
    "        'vehicleTransmission', 'weightTotal', 'wheelbase', 'width'],\n",
    "       dtype='object'))"
   ]
  },
  {
   "cell_type": "markdown",
   "metadata": {},
   "source": []
  }
 ],
 "metadata": {
  "language_info": {
   "name": "python"
  }
 },
 "nbformat": 4,
 "nbformat_minor": 2
}
