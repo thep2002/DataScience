{
 "cells": [
  {
   "cell_type": "code",
   "execution_count": 1,
   "id": "fd9bc36c",
   "metadata": {},
   "outputs": [],
   "source": [
    "import numpy as np\n",
    "import matplotlib.pyplot as plt\n",
    "import pandas as pd\n",
    "import seaborn as sns"
   ]
  },
  {
   "cell_type": "code",
   "execution_count": 4,
   "id": "63118ab0",
   "metadata": {},
   "outputs": [
    {
     "name": "stderr",
     "output_type": "stream",
     "text": [
      "/tmp/ipykernel_45629/1851473937.py:1: DtypeWarning: Columns (12,35,36) have mixed types. Specify dtype option on import or set low_memory=False.\n",
      "  cars_data = pd.read_csv('dataset/cars_data_10.csv')\n"
     ]
    },
    {
     "data": {
      "text/html": [
       "<div>\n",
       "<style scoped>\n",
       "    .dataframe tbody tr th:only-of-type {\n",
       "        vertical-align: middle;\n",
       "    }\n",
       "\n",
       "    .dataframe tbody tr th {\n",
       "        vertical-align: top;\n",
       "    }\n",
       "\n",
       "    .dataframe thead th {\n",
       "        text-align: right;\n",
       "    }\n",
       "</style>\n",
       "<table border=\"1\" class=\"dataframe\">\n",
       "  <thead>\n",
       "    <tr style=\"text-align: right;\">\n",
       "      <th></th>\n",
       "      <th>accelerationTime</th>\n",
       "      <th>bodyType</th>\n",
       "      <th>brand</th>\n",
       "      <th>cargoVolume</th>\n",
       "      <th>curbWeight</th>\n",
       "      <th>driveWheelConfiguration</th>\n",
       "      <th>emissionsCO2</th>\n",
       "      <th>engineCapacity</th>\n",
       "      <th>fuelCapacity</th>\n",
       "      <th>fuelConsumption</th>\n",
       "      <th>...</th>\n",
       "      <th>url</th>\n",
       "      <th>vEengineDisplacement</th>\n",
       "      <th>vEenginePower</th>\n",
       "      <th>vEengineType</th>\n",
       "      <th>vEfuelType</th>\n",
       "      <th>vehicleTransmission</th>\n",
       "      <th>weight</th>\n",
       "      <th>weightTotal</th>\n",
       "      <th>wheelbase</th>\n",
       "      <th>width</th>\n",
       "    </tr>\n",
       "  </thead>\n",
       "  <tbody>\n",
       "    <tr>\n",
       "      <th>0</th>\n",
       "      <td>11,2</td>\n",
       "      <td>4-doors, sedan</td>\n",
       "      <td>Hyundai</td>\n",
       "      <td>376 l</td>\n",
       "      <td>1068 kg</td>\n",
       "      <td>front</td>\n",
       "      <td>174 g/km</td>\n",
       "      <td>1495 cc</td>\n",
       "      <td>55 l</td>\n",
       "      <td>7,3 l/100km</td>\n",
       "      <td>...</td>\n",
       "      <td>http://www.cars-data.com/en/hyundai-lantra-1-5...</td>\n",
       "      <td>1495</td>\n",
       "      <td>65.0</td>\n",
       "      <td>fuel engine</td>\n",
       "      <td>Gasoline</td>\n",
       "      <td>Manual transmission</td>\n",
       "      <td>NaN</td>\n",
       "      <td>1650</td>\n",
       "      <td>2550</td>\n",
       "      <td>1700</td>\n",
       "    </tr>\n",
       "    <tr>\n",
       "      <th>1</th>\n",
       "      <td>13,6</td>\n",
       "      <td>4-doors, sedan</td>\n",
       "      <td>Hyundai</td>\n",
       "      <td>376 l</td>\n",
       "      <td>1093 kg</td>\n",
       "      <td>front</td>\n",
       "      <td>210 g/km</td>\n",
       "      <td>1495 cc</td>\n",
       "      <td>55 l</td>\n",
       "      <td>8,8 l/100km</td>\n",
       "      <td>...</td>\n",
       "      <td>http://www.cars-data.com/en/hyundai-lantra-1-5...</td>\n",
       "      <td>1495</td>\n",
       "      <td>65.0</td>\n",
       "      <td>fuel engine</td>\n",
       "      <td>Gasoline</td>\n",
       "      <td>Automatic</td>\n",
       "      <td>NaN</td>\n",
       "      <td>1650</td>\n",
       "      <td>2550</td>\n",
       "      <td>1700</td>\n",
       "    </tr>\n",
       "    <tr>\n",
       "      <th>2</th>\n",
       "      <td>8,8</td>\n",
       "      <td>4-doors, sedan</td>\n",
       "      <td>Hyundai</td>\n",
       "      <td>376 l</td>\n",
       "      <td>1126 kg</td>\n",
       "      <td>front</td>\n",
       "      <td>196 g/km</td>\n",
       "      <td>1976 cc</td>\n",
       "      <td>55 l</td>\n",
       "      <td>8,2 l/100km</td>\n",
       "      <td>...</td>\n",
       "      <td>http://www.cars-data.com/en/hyundai-lantra-2-0...</td>\n",
       "      <td>1976</td>\n",
       "      <td>102.0</td>\n",
       "      <td>fuel engine</td>\n",
       "      <td>Gasoline</td>\n",
       "      <td>Manual transmission</td>\n",
       "      <td>NaN</td>\n",
       "      <td>1685</td>\n",
       "      <td>2550</td>\n",
       "      <td>1700</td>\n",
       "    </tr>\n",
       "    <tr>\n",
       "      <th>3</th>\n",
       "      <td>12,5</td>\n",
       "      <td>4-doors, sedan</td>\n",
       "      <td>Hyundai</td>\n",
       "      <td>333 l</td>\n",
       "      <td>1017 kg</td>\n",
       "      <td>front</td>\n",
       "      <td>- g/km</td>\n",
       "      <td>1468 cc</td>\n",
       "      <td>52 l</td>\n",
       "      <td>7,9 l/100km</td>\n",
       "      <td>...</td>\n",
       "      <td>http://www.cars-data.com/en/hyundai-lantra-1-5...</td>\n",
       "      <td>1468</td>\n",
       "      <td>63.0</td>\n",
       "      <td>fuel engine</td>\n",
       "      <td>Gasoline</td>\n",
       "      <td>Manual transmission</td>\n",
       "      <td>NaN</td>\n",
       "      <td>1510</td>\n",
       "      <td>2500</td>\n",
       "      <td>1675</td>\n",
       "    </tr>\n",
       "    <tr>\n",
       "      <th>4</th>\n",
       "      <td>11,1</td>\n",
       "      <td>4-doors, sedan</td>\n",
       "      <td>Hyundai</td>\n",
       "      <td>376 l</td>\n",
       "      <td>1156 kg</td>\n",
       "      <td>front</td>\n",
       "      <td>229 g/km</td>\n",
       "      <td>1976 cc</td>\n",
       "      <td>55 l</td>\n",
       "      <td>9,6 l/100km</td>\n",
       "      <td>...</td>\n",
       "      <td>http://www.cars-data.com/en/hyundai-lantra-2-0...</td>\n",
       "      <td>1976</td>\n",
       "      <td>102.0</td>\n",
       "      <td>fuel engine</td>\n",
       "      <td>Gasoline</td>\n",
       "      <td>Automatic</td>\n",
       "      <td>NaN</td>\n",
       "      <td>1685</td>\n",
       "      <td>2550</td>\n",
       "      <td>1700</td>\n",
       "    </tr>\n",
       "    <tr>\n",
       "      <th>5</th>\n",
       "      <td>12,5</td>\n",
       "      <td>4-doors, sedan</td>\n",
       "      <td>Hyundai</td>\n",
       "      <td>333 l</td>\n",
       "      <td>1017 kg</td>\n",
       "      <td>front</td>\n",
       "      <td>- g/km</td>\n",
       "      <td>1468 cc</td>\n",
       "      <td>52 l</td>\n",
       "      <td>7,9 l/100km</td>\n",
       "      <td>...</td>\n",
       "      <td>http://www.cars-data.com/en/hyundai-lantra-1-5...</td>\n",
       "      <td>1468</td>\n",
       "      <td>63.0</td>\n",
       "      <td>fuel engine</td>\n",
       "      <td>Gasoline</td>\n",
       "      <td>Manual transmission</td>\n",
       "      <td>NaN</td>\n",
       "      <td>1510</td>\n",
       "      <td>2500</td>\n",
       "      <td>1675</td>\n",
       "    </tr>\n",
       "    <tr>\n",
       "      <th>6</th>\n",
       "      <td>11,1</td>\n",
       "      <td>4-doors, sedan</td>\n",
       "      <td>Hyundai</td>\n",
       "      <td>333 l</td>\n",
       "      <td>1050 kg</td>\n",
       "      <td>front</td>\n",
       "      <td>- g/km</td>\n",
       "      <td>1596 cc</td>\n",
       "      <td>52 l</td>\n",
       "      <td>8,5 l/100km</td>\n",
       "      <td>...</td>\n",
       "      <td>http://www.cars-data.com/en/hyundai-lantra-1-6...</td>\n",
       "      <td>1596</td>\n",
       "      <td>84.0</td>\n",
       "      <td>fuel engine</td>\n",
       "      <td>Gasoline</td>\n",
       "      <td>Manual transmission</td>\n",
       "      <td>NaN</td>\n",
       "      <td>1620</td>\n",
       "      <td>2500</td>\n",
       "      <td>1675</td>\n",
       "    </tr>\n",
       "    <tr>\n",
       "      <th>7</th>\n",
       "      <td>10,5</td>\n",
       "      <td>4-doors, sedan</td>\n",
       "      <td>Hyundai</td>\n",
       "      <td>376 l</td>\n",
       "      <td>1085 kg</td>\n",
       "      <td>front</td>\n",
       "      <td>184 g/km</td>\n",
       "      <td>1599 cc</td>\n",
       "      <td>55 l</td>\n",
       "      <td>7,7 l/100km</td>\n",
       "      <td>...</td>\n",
       "      <td>http://www.cars-data.com/en/hyundai-lantra-1-6...</td>\n",
       "      <td>1599</td>\n",
       "      <td>84.0</td>\n",
       "      <td>fuel engine</td>\n",
       "      <td>Gasoline</td>\n",
       "      <td>Manual transmission</td>\n",
       "      <td>NaN</td>\n",
       "      <td>1685</td>\n",
       "      <td>2550</td>\n",
       "      <td>1700</td>\n",
       "    </tr>\n",
       "    <tr>\n",
       "      <th>8</th>\n",
       "      <td>12,9</td>\n",
       "      <td>4-doors, sedan</td>\n",
       "      <td>Hyundai</td>\n",
       "      <td>393 l</td>\n",
       "      <td>1111 kg</td>\n",
       "      <td>front</td>\n",
       "      <td>- g/km</td>\n",
       "      <td>1599 cc</td>\n",
       "      <td>55 l</td>\n",
       "      <td>9,7 l/100km</td>\n",
       "      <td>...</td>\n",
       "      <td>http://www.cars-data.com/en/hyundai-lantra-1-6...</td>\n",
       "      <td>1599</td>\n",
       "      <td>84.0</td>\n",
       "      <td>fuel engine</td>\n",
       "      <td>Gasoline</td>\n",
       "      <td>Automatic</td>\n",
       "      <td>NaN</td>\n",
       "      <td>1685</td>\n",
       "      <td>2550</td>\n",
       "      <td>1700</td>\n",
       "    </tr>\n",
       "    <tr>\n",
       "      <th>9</th>\n",
       "      <td>-</td>\n",
       "      <td>5-doors, suv/crossover</td>\n",
       "      <td>Hyundai</td>\n",
       "      <td>461-1466 l</td>\n",
       "      <td>1789 kg</td>\n",
       "      <td>front</td>\n",
       "      <td>0 g/km</td>\n",
       "      <td>n.b.</td>\n",
       "      <td>156 l</td>\n",
       "      <td>1,0 l/100km</td>\n",
       "      <td>...</td>\n",
       "      <td>http://www.cars-data.com/en/hyundai-nexo-fcev-...</td>\n",
       "      <td>n.b.</td>\n",
       "      <td>120.0</td>\n",
       "      <td>fuel engine</td>\n",
       "      <td>NaN</td>\n",
       "      <td>traploze automatic</td>\n",
       "      <td>NaN</td>\n",
       "      <td>2340</td>\n",
       "      <td>2790</td>\n",
       "      <td>1860</td>\n",
       "    </tr>\n",
       "  </tbody>\n",
       "</table>\n",
       "<p>10 rows × 36 columns</p>\n",
       "</div>"
      ],
      "text/plain": [
       "  accelerationTime                bodyType    brand cargoVolume curbWeight   \n",
       "0             11,2          4-doors, sedan  Hyundai       376 l    1068 kg  \\\n",
       "1             13,6          4-doors, sedan  Hyundai       376 l    1093 kg   \n",
       "2              8,8          4-doors, sedan  Hyundai       376 l    1126 kg   \n",
       "3             12,5          4-doors, sedan  Hyundai       333 l    1017 kg   \n",
       "4             11,1          4-doors, sedan  Hyundai       376 l    1156 kg   \n",
       "5             12,5          4-doors, sedan  Hyundai       333 l    1017 kg   \n",
       "6             11,1          4-doors, sedan  Hyundai       333 l    1050 kg   \n",
       "7             10,5          4-doors, sedan  Hyundai       376 l    1085 kg   \n",
       "8             12,9          4-doors, sedan  Hyundai       393 l    1111 kg   \n",
       "9                -  5-doors, suv/crossover  Hyundai  461-1466 l    1789 kg   \n",
       "\n",
       "  driveWheelConfiguration emissionsCO2 engineCapacity fuelCapacity   \n",
       "0                   front     174 g/km        1495 cc         55 l  \\\n",
       "1                   front     210 g/km        1495 cc         55 l   \n",
       "2                   front     196 g/km        1976 cc         55 l   \n",
       "3                   front       - g/km        1468 cc         52 l   \n",
       "4                   front     229 g/km        1976 cc         55 l   \n",
       "5                   front       - g/km        1468 cc         52 l   \n",
       "6                   front       - g/km        1596 cc         52 l   \n",
       "7                   front     184 g/km        1599 cc         55 l   \n",
       "8                   front       - g/km        1599 cc         55 l   \n",
       "9                   front       0 g/km           n.b.        156 l   \n",
       "\n",
       "  fuelConsumption  ...                                                url   \n",
       "0     7,3 l/100km  ...  http://www.cars-data.com/en/hyundai-lantra-1-5...  \\\n",
       "1     8,8 l/100km  ...  http://www.cars-data.com/en/hyundai-lantra-1-5...   \n",
       "2     8,2 l/100km  ...  http://www.cars-data.com/en/hyundai-lantra-2-0...   \n",
       "3     7,9 l/100km  ...  http://www.cars-data.com/en/hyundai-lantra-1-5...   \n",
       "4     9,6 l/100km  ...  http://www.cars-data.com/en/hyundai-lantra-2-0...   \n",
       "5     7,9 l/100km  ...  http://www.cars-data.com/en/hyundai-lantra-1-5...   \n",
       "6     8,5 l/100km  ...  http://www.cars-data.com/en/hyundai-lantra-1-6...   \n",
       "7     7,7 l/100km  ...  http://www.cars-data.com/en/hyundai-lantra-1-6...   \n",
       "8     9,7 l/100km  ...  http://www.cars-data.com/en/hyundai-lantra-1-6...   \n",
       "9     1,0 l/100km  ...  http://www.cars-data.com/en/hyundai-nexo-fcev-...   \n",
       "\n",
       "  vEengineDisplacement vEenginePower vEengineType  vEfuelType   \n",
       "0                 1495          65.0  fuel engine    Gasoline  \\\n",
       "1                 1495          65.0  fuel engine    Gasoline   \n",
       "2                 1976         102.0  fuel engine    Gasoline   \n",
       "3                 1468          63.0  fuel engine    Gasoline   \n",
       "4                 1976         102.0  fuel engine    Gasoline   \n",
       "5                 1468          63.0  fuel engine    Gasoline   \n",
       "6                 1596          84.0  fuel engine    Gasoline   \n",
       "7                 1599          84.0  fuel engine    Gasoline   \n",
       "8                 1599          84.0  fuel engine    Gasoline   \n",
       "9                 n.b.         120.0  fuel engine         NaN   \n",
       "\n",
       "   vehicleTransmission  weight  weightTotal wheelbase width  \n",
       "0  Manual transmission     NaN         1650      2550  1700  \n",
       "1            Automatic     NaN         1650      2550  1700  \n",
       "2  Manual transmission     NaN         1685      2550  1700  \n",
       "3  Manual transmission     NaN         1510      2500  1675  \n",
       "4            Automatic     NaN         1685      2550  1700  \n",
       "5  Manual transmission     NaN         1510      2500  1675  \n",
       "6  Manual transmission     NaN         1620      2500  1675  \n",
       "7  Manual transmission     NaN         1685      2550  1700  \n",
       "8            Automatic     NaN         1685      2550  1700  \n",
       "9   traploze automatic     NaN         2340      2790  1860  \n",
       "\n",
       "[10 rows x 36 columns]"
      ]
     },
     "execution_count": 4,
     "metadata": {},
     "output_type": "execute_result"
    }
   ],
   "source": [
    "cars_data = pd.read_csv('dataset/raw_data.csv')\n",
    "# drop eLabel column\n",
    "cars_data = cars_data.drop(['eLabel'], axis=1)\n",
    "cars_data.head(10)"
   ]
  },
  {
   "cell_type": "code",
   "execution_count": 4,
   "id": "c8b2a923",
   "metadata": {},
   "outputs": [
    {
     "data": {
      "text/html": [
       "<div>\n",
       "<style scoped>\n",
       "    .dataframe tbody tr th:only-of-type {\n",
       "        vertical-align: middle;\n",
       "    }\n",
       "\n",
       "    .dataframe tbody tr th {\n",
       "        vertical-align: top;\n",
       "    }\n",
       "\n",
       "    .dataframe thead th {\n",
       "        text-align: right;\n",
       "    }\n",
       "</style>\n",
       "<table border=\"1\" class=\"dataframe\">\n",
       "  <thead>\n",
       "    <tr style=\"text-align: right;\">\n",
       "      <th></th>\n",
       "      <th>modelDate</th>\n",
       "      <th>numberOfAxles</th>\n",
       "      <th>numberOfDoors</th>\n",
       "      <th>trailerWeight</th>\n",
       "      <th>vEenginePower</th>\n",
       "      <th>weight</th>\n",
       "    </tr>\n",
       "  </thead>\n",
       "  <tbody>\n",
       "    <tr>\n",
       "      <th>count</th>\n",
       "      <td>45624.000000</td>\n",
       "      <td>45624.0</td>\n",
       "      <td>45624.000000</td>\n",
       "      <td>0.0</td>\n",
       "      <td>45601.000000</td>\n",
       "      <td>0.0</td>\n",
       "    </tr>\n",
       "    <tr>\n",
       "      <th>mean</th>\n",
       "      <td>2006.241255</td>\n",
       "      <td>2.0</td>\n",
       "      <td>4.306023</td>\n",
       "      <td>NaN</td>\n",
       "      <td>107.416855</td>\n",
       "      <td>NaN</td>\n",
       "    </tr>\n",
       "    <tr>\n",
       "      <th>std</th>\n",
       "      <td>9.443417</td>\n",
       "      <td>0.0</td>\n",
       "      <td>0.916467</td>\n",
       "      <td>NaN</td>\n",
       "      <td>50.740610</td>\n",
       "      <td>NaN</td>\n",
       "    </tr>\n",
       "    <tr>\n",
       "      <th>min</th>\n",
       "      <td>1969.000000</td>\n",
       "      <td>2.0</td>\n",
       "      <td>2.000000</td>\n",
       "      <td>NaN</td>\n",
       "      <td>12.000000</td>\n",
       "      <td>NaN</td>\n",
       "    </tr>\n",
       "    <tr>\n",
       "      <th>25%</th>\n",
       "      <td>2001.000000</td>\n",
       "      <td>2.0</td>\n",
       "      <td>4.000000</td>\n",
       "      <td>NaN</td>\n",
       "      <td>75.000000</td>\n",
       "      <td>NaN</td>\n",
       "    </tr>\n",
       "    <tr>\n",
       "      <th>50%</th>\n",
       "      <td>2008.000000</td>\n",
       "      <td>2.0</td>\n",
       "      <td>5.000000</td>\n",
       "      <td>NaN</td>\n",
       "      <td>98.000000</td>\n",
       "      <td>NaN</td>\n",
       "    </tr>\n",
       "    <tr>\n",
       "      <th>75%</th>\n",
       "      <td>2013.000000</td>\n",
       "      <td>2.0</td>\n",
       "      <td>5.000000</td>\n",
       "      <td>NaN</td>\n",
       "      <td>125.000000</td>\n",
       "      <td>NaN</td>\n",
       "    </tr>\n",
       "    <tr>\n",
       "      <th>max</th>\n",
       "      <td>2021.000000</td>\n",
       "      <td>2.0</td>\n",
       "      <td>5.000000</td>\n",
       "      <td>NaN</td>\n",
       "      <td>545.000000</td>\n",
       "      <td>NaN</td>\n",
       "    </tr>\n",
       "  </tbody>\n",
       "</table>\n",
       "</div>"
      ],
      "text/plain": [
       "          modelDate  numberOfAxles  numberOfDoors  trailerWeight   \n",
       "count  45624.000000        45624.0   45624.000000            0.0  \\\n",
       "mean    2006.241255            2.0       4.306023            NaN   \n",
       "std        9.443417            0.0       0.916467            NaN   \n",
       "min     1969.000000            2.0       2.000000            NaN   \n",
       "25%     2001.000000            2.0       4.000000            NaN   \n",
       "50%     2008.000000            2.0       5.000000            NaN   \n",
       "75%     2013.000000            2.0       5.000000            NaN   \n",
       "max     2021.000000            2.0       5.000000            NaN   \n",
       "\n",
       "       vEenginePower  weight  \n",
       "count   45601.000000     0.0  \n",
       "mean      107.416855     NaN  \n",
       "std        50.740610     NaN  \n",
       "min        12.000000     NaN  \n",
       "25%        75.000000     NaN  \n",
       "50%        98.000000     NaN  \n",
       "75%       125.000000     NaN  \n",
       "max       545.000000     NaN  "
      ]
     },
     "execution_count": 4,
     "metadata": {},
     "output_type": "execute_result"
    }
   ],
   "source": [
    "cars_data.describe()"
   ]
  },
  {
   "cell_type": "code",
   "execution_count": 5,
   "id": "d6df7293",
   "metadata": {},
   "outputs": [
    {
     "name": "stdout",
     "output_type": "stream",
     "text": [
      "<class 'pandas.core.frame.DataFrame'>\n",
      "RangeIndex: 45624 entries, 0 to 45623\n",
      "Data columns (total 37 columns):\n",
      " #   Column                   Non-Null Count  Dtype  \n",
      "---  ------                   --------------  -----  \n",
      " 0   accelerationTime         45624 non-null  object \n",
      " 1   bodyType                 45624 non-null  object \n",
      " 2   brand                    45624 non-null  object \n",
      " 3   cargoVolume              45624 non-null  object \n",
      " 4   curbWeight               45624 non-null  object \n",
      " 5   driveWheelConfiguration  45624 non-null  object \n",
      " 6   eLabel                   38135 non-null  object \n",
      " 7   emissionsCO2             45624 non-null  object \n",
      " 8   engineCapacity           45455 non-null  object \n",
      " 9   fuelCapacity             45455 non-null  object \n",
      " 10  fuelConsumption          45455 non-null  object \n",
      " 11  fuelType                 45454 non-null  object \n",
      " 12  height                   45624 non-null  object \n",
      " 13  length                   45624 non-null  object \n",
      " 14  model                    45624 non-null  object \n",
      " 15  modelDate                45624 non-null  int64  \n",
      " 16  name                     45624 non-null  object \n",
      " 17  numberOfAxles            45624 non-null  int64  \n",
      " 18  numberOfDoors            45624 non-null  int64  \n",
      " 19  numberOfForwardGears     45624 non-null  object \n",
      " 20  payload                  45624 non-null  object \n",
      " 21  price                    45624 non-null  object \n",
      " 22  roofLoad                 45624 non-null  object \n",
      " 23  seatingCapacity          45624 non-null  object \n",
      " 24  speed                    45624 non-null  object \n",
      " 25  torque                   45623 non-null  object \n",
      " 26  trailerWeight            0 non-null      float64\n",
      " 27  url                      45624 non-null  object \n",
      " 28  vEengineDisplacement     45455 non-null  object \n",
      " 29  vEenginePower            45601 non-null  float64\n",
      " 30  vEengineType             45624 non-null  object \n",
      " 31  vEfuelType               45454 non-null  object \n",
      " 32  vehicleTransmission      45624 non-null  object \n",
      " 33  weight                   0 non-null      float64\n",
      " 34  weightTotal              45624 non-null  object \n",
      " 35  wheelbase                45624 non-null  object \n",
      " 36  width                    45624 non-null  object \n",
      "dtypes: float64(3), int64(3), object(31)\n",
      "memory usage: 12.9+ MB\n"
     ]
    }
   ],
   "source": [
    "cars_data.info(verbose=True)"
   ]
  },
  {
   "cell_type": "code",
   "execution_count": 6,
   "id": "6b73e686",
   "metadata": {},
   "outputs": [
    {
     "data": {
      "text/plain": [
       "accelerationTime             216\n",
       "bodyType                      35\n",
       "brand                         82\n",
       "cargoVolume                 1912\n",
       "curbWeight                  1600\n",
       "driveWheelConfiguration        3\n",
       "eLabel                         7\n",
       "emissionsCO2                 348\n",
       "engineCapacity               636\n",
       "fuelCapacity                  94\n",
       "fuelConsumption              177\n",
       "fuelType                       9\n",
       "height                       952\n",
       "length                      1186\n",
       "model                       1525\n",
       "modelDate                     51\n",
       "name                       44427\n",
       "numberOfAxles                  1\n",
       "numberOfDoors                  4\n",
       "numberOfForwardGears          10\n",
       "payload                     1026\n",
       "price                      19196\n",
       "roofLoad                      36\n",
       "seatingCapacity               21\n",
       "speed                        195\n",
       "torque                       408\n",
       "trailerWeight                  0\n",
       "url                        45624\n",
       "vEengineDisplacement         636\n",
       "vEenginePower                317\n",
       "vEengineType                   4\n",
       "vEfuelType                     9\n",
       "vehicleTransmission            5\n",
       "weight                         0\n",
       "weightTotal                  960\n",
       "wheelbase                    732\n",
       "width                        601\n",
       "dtype: int64"
      ]
     },
     "execution_count": 6,
     "metadata": {},
     "output_type": "execute_result"
    }
   ],
   "source": [
    "cars_data.nunique()"
   ]
  },
  {
   "cell_type": "code",
   "execution_count": 7,
   "id": "8aacfab4",
   "metadata": {},
   "outputs": [
    {
     "data": {
      "text/html": [
       "<div>\n",
       "<style scoped>\n",
       "    .dataframe tbody tr th:only-of-type {\n",
       "        vertical-align: middle;\n",
       "    }\n",
       "\n",
       "    .dataframe tbody tr th {\n",
       "        vertical-align: top;\n",
       "    }\n",
       "\n",
       "    .dataframe thead th {\n",
       "        text-align: right;\n",
       "    }\n",
       "</style>\n",
       "<table border=\"1\" class=\"dataframe\">\n",
       "  <thead>\n",
       "    <tr style=\"text-align: right;\">\n",
       "      <th></th>\n",
       "      <th>Null count</th>\n",
       "      <th>Null ratio</th>\n",
       "    </tr>\n",
       "  </thead>\n",
       "  <tbody>\n",
       "    <tr>\n",
       "      <th>weight</th>\n",
       "      <td>45624</td>\n",
       "      <td>1.000000</td>\n",
       "    </tr>\n",
       "    <tr>\n",
       "      <th>trailerWeight</th>\n",
       "      <td>45624</td>\n",
       "      <td>1.000000</td>\n",
       "    </tr>\n",
       "    <tr>\n",
       "      <th>eLabel</th>\n",
       "      <td>7489</td>\n",
       "      <td>0.164146</td>\n",
       "    </tr>\n",
       "    <tr>\n",
       "      <th>vEfuelType</th>\n",
       "      <td>170</td>\n",
       "      <td>0.003726</td>\n",
       "    </tr>\n",
       "    <tr>\n",
       "      <th>fuelType</th>\n",
       "      <td>170</td>\n",
       "      <td>0.003726</td>\n",
       "    </tr>\n",
       "    <tr>\n",
       "      <th>fuelConsumption</th>\n",
       "      <td>169</td>\n",
       "      <td>0.003704</td>\n",
       "    </tr>\n",
       "    <tr>\n",
       "      <th>vEengineDisplacement</th>\n",
       "      <td>169</td>\n",
       "      <td>0.003704</td>\n",
       "    </tr>\n",
       "    <tr>\n",
       "      <th>engineCapacity</th>\n",
       "      <td>169</td>\n",
       "      <td>0.003704</td>\n",
       "    </tr>\n",
       "    <tr>\n",
       "      <th>fuelCapacity</th>\n",
       "      <td>169</td>\n",
       "      <td>0.003704</td>\n",
       "    </tr>\n",
       "    <tr>\n",
       "      <th>vEenginePower</th>\n",
       "      <td>23</td>\n",
       "      <td>0.000504</td>\n",
       "    </tr>\n",
       "    <tr>\n",
       "      <th>torque</th>\n",
       "      <td>1</td>\n",
       "      <td>0.000022</td>\n",
       "    </tr>\n",
       "    <tr>\n",
       "      <th>seatingCapacity</th>\n",
       "      <td>0</td>\n",
       "      <td>0.000000</td>\n",
       "    </tr>\n",
       "    <tr>\n",
       "      <th>speed</th>\n",
       "      <td>0</td>\n",
       "      <td>0.000000</td>\n",
       "    </tr>\n",
       "    <tr>\n",
       "      <th>url</th>\n",
       "      <td>0</td>\n",
       "      <td>0.000000</td>\n",
       "    </tr>\n",
       "    <tr>\n",
       "      <th>accelerationTime</th>\n",
       "      <td>0</td>\n",
       "      <td>0.000000</td>\n",
       "    </tr>\n",
       "    <tr>\n",
       "      <th>vEengineType</th>\n",
       "      <td>0</td>\n",
       "      <td>0.000000</td>\n",
       "    </tr>\n",
       "    <tr>\n",
       "      <th>price</th>\n",
       "      <td>0</td>\n",
       "      <td>0.000000</td>\n",
       "    </tr>\n",
       "    <tr>\n",
       "      <th>vehicleTransmission</th>\n",
       "      <td>0</td>\n",
       "      <td>0.000000</td>\n",
       "    </tr>\n",
       "    <tr>\n",
       "      <th>weightTotal</th>\n",
       "      <td>0</td>\n",
       "      <td>0.000000</td>\n",
       "    </tr>\n",
       "    <tr>\n",
       "      <th>wheelbase</th>\n",
       "      <td>0</td>\n",
       "      <td>0.000000</td>\n",
       "    </tr>\n",
       "    <tr>\n",
       "      <th>roofLoad</th>\n",
       "      <td>0</td>\n",
       "      <td>0.000000</td>\n",
       "    </tr>\n",
       "    <tr>\n",
       "      <th>numberOfDoors</th>\n",
       "      <td>0</td>\n",
       "      <td>0.000000</td>\n",
       "    </tr>\n",
       "    <tr>\n",
       "      <th>payload</th>\n",
       "      <td>0</td>\n",
       "      <td>0.000000</td>\n",
       "    </tr>\n",
       "    <tr>\n",
       "      <th>numberOfForwardGears</th>\n",
       "      <td>0</td>\n",
       "      <td>0.000000</td>\n",
       "    </tr>\n",
       "    <tr>\n",
       "      <th>bodyType</th>\n",
       "      <td>0</td>\n",
       "      <td>0.000000</td>\n",
       "    </tr>\n",
       "    <tr>\n",
       "      <th>numberOfAxles</th>\n",
       "      <td>0</td>\n",
       "      <td>0.000000</td>\n",
       "    </tr>\n",
       "    <tr>\n",
       "      <th>name</th>\n",
       "      <td>0</td>\n",
       "      <td>0.000000</td>\n",
       "    </tr>\n",
       "    <tr>\n",
       "      <th>modelDate</th>\n",
       "      <td>0</td>\n",
       "      <td>0.000000</td>\n",
       "    </tr>\n",
       "    <tr>\n",
       "      <th>model</th>\n",
       "      <td>0</td>\n",
       "      <td>0.000000</td>\n",
       "    </tr>\n",
       "    <tr>\n",
       "      <th>length</th>\n",
       "      <td>0</td>\n",
       "      <td>0.000000</td>\n",
       "    </tr>\n",
       "    <tr>\n",
       "      <th>height</th>\n",
       "      <td>0</td>\n",
       "      <td>0.000000</td>\n",
       "    </tr>\n",
       "    <tr>\n",
       "      <th>emissionsCO2</th>\n",
       "      <td>0</td>\n",
       "      <td>0.000000</td>\n",
       "    </tr>\n",
       "    <tr>\n",
       "      <th>driveWheelConfiguration</th>\n",
       "      <td>0</td>\n",
       "      <td>0.000000</td>\n",
       "    </tr>\n",
       "    <tr>\n",
       "      <th>curbWeight</th>\n",
       "      <td>0</td>\n",
       "      <td>0.000000</td>\n",
       "    </tr>\n",
       "    <tr>\n",
       "      <th>cargoVolume</th>\n",
       "      <td>0</td>\n",
       "      <td>0.000000</td>\n",
       "    </tr>\n",
       "    <tr>\n",
       "      <th>brand</th>\n",
       "      <td>0</td>\n",
       "      <td>0.000000</td>\n",
       "    </tr>\n",
       "    <tr>\n",
       "      <th>width</th>\n",
       "      <td>0</td>\n",
       "      <td>0.000000</td>\n",
       "    </tr>\n",
       "  </tbody>\n",
       "</table>\n",
       "</div>"
      ],
      "text/plain": [
       "                         Null count  Null ratio\n",
       "weight                        45624    1.000000\n",
       "trailerWeight                 45624    1.000000\n",
       "eLabel                         7489    0.164146\n",
       "vEfuelType                      170    0.003726\n",
       "fuelType                        170    0.003726\n",
       "fuelConsumption                 169    0.003704\n",
       "vEengineDisplacement            169    0.003704\n",
       "engineCapacity                  169    0.003704\n",
       "fuelCapacity                    169    0.003704\n",
       "vEenginePower                    23    0.000504\n",
       "torque                            1    0.000022\n",
       "seatingCapacity                   0    0.000000\n",
       "speed                             0    0.000000\n",
       "url                               0    0.000000\n",
       "accelerationTime                  0    0.000000\n",
       "vEengineType                      0    0.000000\n",
       "price                             0    0.000000\n",
       "vehicleTransmission               0    0.000000\n",
       "weightTotal                       0    0.000000\n",
       "wheelbase                         0    0.000000\n",
       "roofLoad                          0    0.000000\n",
       "numberOfDoors                     0    0.000000\n",
       "payload                           0    0.000000\n",
       "numberOfForwardGears              0    0.000000\n",
       "bodyType                          0    0.000000\n",
       "numberOfAxles                     0    0.000000\n",
       "name                              0    0.000000\n",
       "modelDate                         0    0.000000\n",
       "model                             0    0.000000\n",
       "length                            0    0.000000\n",
       "height                            0    0.000000\n",
       "emissionsCO2                      0    0.000000\n",
       "driveWheelConfiguration           0    0.000000\n",
       "curbWeight                        0    0.000000\n",
       "cargoVolume                       0    0.000000\n",
       "brand                             0    0.000000\n",
       "width                             0    0.000000"
      ]
     },
     "execution_count": 7,
     "metadata": {},
     "output_type": "execute_result"
    }
   ],
   "source": [
    "# See if there is any null in our data\n",
    "null_info = pd.DataFrame({'Null count': cars_data.isnull().sum(), 'Null ratio': cars_data.isnull().sum()/len(cars_data)})\n",
    "null_info.sort_values(by='Null ratio', ascending=False, inplace=True)\n",
    "null_info\n",
    "\n",
    "# trailerWeight, weight is full null, so we drop it\n",
    "# eLabel has high null ratio, we need to consider \n",
    "# numberOfAxles has 1 value, so we drop it \n"
   ]
  },
  {
   "cell_type": "code",
   "execution_count": 8,
   "id": "20b75dd1",
   "metadata": {},
   "outputs": [
    {
     "data": {
      "text/plain": [
       "eLabel\n",
       "g    20165\n",
       "e     3943\n",
       "f     3763\n",
       "d     3655\n",
       "c     3321\n",
       "b     2025\n",
       "a     1263\n",
       "Name: count, dtype: int64"
      ]
     },
     "execution_count": 8,
     "metadata": {},
     "output_type": "execute_result"
    }
   ],
   "source": [
    "cars_data['eLabel'].value_counts()"
   ]
  },
  {
   "cell_type": "code",
   "execution_count": 10,
   "id": "4e05aceb",
   "metadata": {},
   "outputs": [
    {
     "data": {
      "image/png": "[encoded data removed]",
      "text/plain": [
       "<Figure size 2500x1000 with 2 Axes>"
      ]
     },
     "metadata": {},
     "output_type": "display_data"
    }
   ],
   "source": [
    "# visualize missing data\n",
    "import missingno as msno\n",
    "\n",
    "msno.matrix(cars_data);"
   ]
  },
  {
   "cell_type": "code",
   "execution_count": 11,
   "metadata": {},
   "outputs": [],
   "source": [
    "# drop trailerWeight, weight, numberOfAxles column\n",
    "df = cars_data.drop(['trailerWeight','eLabel' ,'weight', 'numberOfAxles', 'url', 'name'], axis=1)\n"
   ]
  },
  {
   "cell_type": "code",
   "execution_count": 12,
   "metadata": {},
   "outputs": [
    {
     "data": {
      "image/png": "[encoded data removed]",
      "text/plain": [
       "<Figure size 2500x1000 with 2 Axes>"
      ]
     },
     "metadata": {},
     "output_type": "display_data"
    }
   ],
   "source": [
    "msno.matrix(df);"
   ]
  },
  {
   "cell_type": "code",
   "execution_count": 13,
   "metadata": {},
   "outputs": [
    {
     "data": {
      "text/html": [
       "<div>\n",
       "<style scoped>\n",
       "    .dataframe tbody tr th:only-of-type {\n",
       "        vertical-align: middle;\n",
       "    }\n",
       "\n",
       "    .dataframe tbody tr th {\n",
       "        vertical-align: top;\n",
       "    }\n",
       "\n",
       "    .dataframe thead th {\n",
       "        text-align: right;\n",
       "    }\n",
       "</style>\n",
       "<table border=\"1\" class=\"dataframe\">\n",
       "  <thead>\n",
       "    <tr style=\"text-align: right;\">\n",
       "      <th></th>\n",
       "      <th>modelDate</th>\n",
       "      <th>numberOfDoors</th>\n",
       "      <th>vEenginePower</th>\n",
       "    </tr>\n",
       "  </thead>\n",
       "  <tbody>\n",
       "    <tr>\n",
       "      <th>count</th>\n",
       "      <td>45624.000000</td>\n",
       "      <td>45624.000000</td>\n",
       "      <td>45601.000000</td>\n",
       "    </tr>\n",
       "    <tr>\n",
       "      <th>mean</th>\n",
       "      <td>2006.241255</td>\n",
       "      <td>4.306023</td>\n",
       "      <td>107.416855</td>\n",
       "    </tr>\n",
       "    <tr>\n",
       "      <th>std</th>\n",
       "      <td>9.443417</td>\n",
       "      <td>0.916467</td>\n",
       "      <td>50.740610</td>\n",
       "    </tr>\n",
       "    <tr>\n",
       "      <th>min</th>\n",
       "      <td>1969.000000</td>\n",
       "      <td>2.000000</td>\n",
       "      <td>12.000000</td>\n",
       "    </tr>\n",
       "    <tr>\n",
       "      <th>25%</th>\n",
       "      <td>2001.000000</td>\n",
       "      <td>4.000000</td>\n",
       "      <td>75.000000</td>\n",
       "    </tr>\n",
       "    <tr>\n",
       "      <th>50%</th>\n",
       "      <td>2008.000000</td>\n",
       "      <td>5.000000</td>\n",
       "      <td>98.000000</td>\n",
       "    </tr>\n",
       "    <tr>\n",
       "      <th>75%</th>\n",
       "      <td>2013.000000</td>\n",
       "      <td>5.000000</td>\n",
       "      <td>125.000000</td>\n",
       "    </tr>\n",
       "    <tr>\n",
       "      <th>max</th>\n",
       "      <td>2021.000000</td>\n",
       "      <td>5.000000</td>\n",
       "      <td>545.000000</td>\n",
       "    </tr>\n",
       "  </tbody>\n",
       "</table>\n",
       "</div>"
      ],
      "text/plain": [
       "          modelDate  numberOfDoors  vEenginePower\n",
       "count  45624.000000   45624.000000   45601.000000\n",
       "mean    2006.241255       4.306023     107.416855\n",
       "std        9.443417       0.916467      50.740610\n",
       "min     1969.000000       2.000000      12.000000\n",
       "25%     2001.000000       4.000000      75.000000\n",
       "50%     2008.000000       5.000000      98.000000\n",
       "75%     2013.000000       5.000000     125.000000\n",
       "max     2021.000000       5.000000     545.000000"
      ]
     },
     "execution_count": 13,
     "metadata": {},
     "output_type": "execute_result"
    }
   ],
   "source": [
    "# df = cars_data.copy()\n",
    "df.describe()"
   ]
  },
  {
   "cell_type": "code",
   "execution_count": 14,
   "metadata": {},
   "outputs": [
    {
     "name": "stdout",
     "output_type": "stream",
     "text": [
      "<class 'pandas.core.frame.DataFrame'>\n",
      "RangeIndex: 45624 entries, 0 to 45623\n",
      "Data columns (total 31 columns):\n",
      " #   Column                   Non-Null Count  Dtype  \n",
      "---  ------                   --------------  -----  \n",
      " 0   accelerationTime         45624 non-null  object \n",
      " 1   bodyType                 45624 non-null  object \n",
      " 2   brand                    45624 non-null  object \n",
      " 3   cargoVolume              45624 non-null  object \n",
      " 4   curbWeight               45624 non-null  object \n",
      " 5   driveWheelConfiguration  45624 non-null  object \n",
      " 6   emissionsCO2             45624 non-null  object \n",
      " 7   engineCapacity           45455 non-null  object \n",
      " 8   fuelCapacity             45455 non-null  object \n",
      " 9   fuelConsumption          45455 non-null  object \n",
      " 10  fuelType                 45454 non-null  object \n",
      " 11  height                   45624 non-null  object \n",
      " 12  length                   45624 non-null  object \n",
      " 13  model                    45624 non-null  object \n",
      " 14  modelDate                45624 non-null  int64  \n",
      " 15  numberOfDoors            45624 non-null  int64  \n",
      " 16  numberOfForwardGears     45624 non-null  object \n",
      " 17  payload                  45624 non-null  object \n",
      " 18  price                    45624 non-null  object \n",
      " 19  roofLoad                 45624 non-null  object \n",
      " 20  seatingCapacity          45624 non-null  object \n",
      " 21  speed                    45624 non-null  object \n",
      " 22  torque                   45623 non-null  object \n",
      " 23  vEengineDisplacement     45455 non-null  object \n",
      " 24  vEenginePower            45601 non-null  float64\n",
      " 25  vEengineType             45624 non-null  object \n",
      " 26  vEfuelType               45454 non-null  object \n",
      " 27  vehicleTransmission      45624 non-null  object \n",
      " 28  weightTotal              45624 non-null  object \n",
      " 29  wheelbase                45624 non-null  object \n",
      " 30  width                    45624 non-null  object \n",
      "dtypes: float64(1), int64(2), object(28)\n",
      "memory usage: 10.8+ MB\n"
     ]
    }
   ],
   "source": [
    "df.info(verbose=True)"
   ]
  },
  {
   "cell_type": "code",
   "execution_count": 15,
   "metadata": {},
   "outputs": [
    {
     "data": {
      "text/plain": [
       "(31,\n",
       " Index(['accelerationTime', 'bodyType', 'brand', 'cargoVolume', 'curbWeight',\n",
       "        'driveWheelConfiguration', 'emissionsCO2', 'engineCapacity',\n",
       "        'fuelCapacity', 'fuelConsumption', 'fuelType', 'height', 'length',\n",
       "        'model', 'modelDate', 'numberOfDoors', 'numberOfForwardGears',\n",
       "        'payload', 'price', 'roofLoad', 'seatingCapacity', 'speed', 'torque',\n",
       "        'vEengineDisplacement', 'vEenginePower', 'vEengineType', 'vEfuelType',\n",
       "        'vehicleTransmission', 'weightTotal', 'wheelbase', 'width'],\n",
       "       dtype='object'))"
      ]
     },
     "execution_count": 15,
     "metadata": {},
     "output_type": "execute_result"
    }
   ],
   "source": [
    "len(df.columns), df.columns"
   ]
  },
  {
   "cell_type": "code",
   "execution_count": 16,
   "id": "427489da",
   "metadata": {},
   "outputs": [
    {
     "data": {
      "text/plain": [
       "0        11,2\n",
       "1        13,6\n",
       "2         8,8\n",
       "3        12,5\n",
       "4        11,1\n",
       "         ... \n",
       "45619     8,4\n",
       "45620     6,7\n",
       "45621     8,5\n",
       "45622     8,4\n",
       "45623     7,4\n",
       "Name: accelerationTime, Length: 45624, dtype: object"
      ]
     },
     "execution_count": 16,
     "metadata": {},
     "output_type": "execute_result"
    }
   ],
   "source": [
    "df['accelerationTime'] "
   ]
  },
  {
   "cell_type": "code",
   "execution_count": 17,
   "metadata": {},
   "outputs": [
    {
     "data": {
      "text/plain": [
       "(0        11.2\n",
       " 1        13.6\n",
       " 2         8.8\n",
       " 3        12.5\n",
       " 4        11.1\n",
       "          ... \n",
       " 45619     8.4\n",
       " 45620     6.7\n",
       " 45621     8.5\n",
       " 45622     8.4\n",
       " 45623     7.4\n",
       " Name: accelerationTime, Length: 45624, dtype: float64,\n",
       " 3475)"
      ]
     },
     "execution_count": 17,
     "metadata": {},
     "output_type": "execute_result"
    }
   ],
   "source": [
    "# accelerationTime\n",
    "df['accelerationTime'] = list(map(lambda x: x.replace(',', '.'), df['accelerationTime']))\n",
    "df['accelerationTime'] = pd.to_numeric(df['accelerationTime'], errors='coerce')\n",
    "df['accelerationTime'] , df['accelerationTime'].isna().sum()\n"
   ]
  },
  {
   "cell_type": "code",
   "execution_count": 18,
   "metadata": {},
   "outputs": [
    {
     "data": {
      "text/plain": [
       "(0        4-doors, sedan\n",
       " 1        4-doors, sedan\n",
       " 2        4-doors, sedan\n",
       " 3        4-doors, sedan\n",
       " 4        4-doors, sedan\n",
       "               ...      \n",
       " 45619    2-doors, coupé\n",
       " 45620    2-doors, coupé\n",
       " 45621    2-doors, coupé\n",
       " 45622    2-doors, coupé\n",
       " 45623    2-doors, coupé\n",
       " Name: bodyType, Length: 45624, dtype: string,\n",
       " 0)"
      ]
     },
     "execution_count": 18,
     "metadata": {},
     "output_type": "execute_result"
    }
   ],
   "source": [
    "# bodyType\n",
    "# Take string value after \",\"\n",
    "# df['bodyType'] = list(map(lambda x: x.split(',')[1].strip(), df['bodyType']))\n",
    "df['bodyType'] = df['bodyType'].astype('string')\n",
    "df['bodyType'], df['bodyType'].isna().sum()"
   ]
  },
  {
   "cell_type": "code",
   "execution_count": 19,
   "metadata": {},
   "outputs": [
    {
     "data": {
      "text/plain": [
       "(0           Hyundai\n",
       " 1           Hyundai\n",
       " 2           Hyundai\n",
       " 3           Hyundai\n",
       " 4           Hyundai\n",
       "             ...    \n",
       " 45619    Alfa Romeo\n",
       " 45620    Alfa Romeo\n",
       " 45621    Alfa Romeo\n",
       " 45622    Alfa Romeo\n",
       " 45623    Alfa Romeo\n",
       " Name: brand, Length: 45624, dtype: string,\n",
       " 0)"
      ]
     },
     "execution_count": 19,
     "metadata": {},
     "output_type": "execute_result"
    }
   ],
   "source": [
    "# brand\n",
    "df['brand'] = df['brand'].astype('string')\n",
    "df['brand'], df['brand'].isna().sum()"
   ]
  },
  {
   "cell_type": "code",
   "execution_count": 20,
   "metadata": {},
   "outputs": [
    {
     "data": {
      "text/plain": [
       "(0        376.0\n",
       " 1        376.0\n",
       " 2        376.0\n",
       " 3        333.0\n",
       " 4        376.0\n",
       "          ...  \n",
       " 45619    155.0\n",
       " 45620    155.0\n",
       " 45621    155.0\n",
       " 45622    155.0\n",
       " 45623    155.0\n",
       " Name: cargoVolume, Length: 45624, dtype: float64,\n",
       " 871)"
      ]
     },
     "execution_count": 20,
     "metadata": {},
     "output_type": "execute_result"
    }
   ],
   "source": [
    "# cargoVolume\n",
    "# take maximum value and remove \"not digit\" part\n",
    "import re\n",
    "df[\"cargoVolume\"] = list(map(lambda x: re.findall('\\\\d+', x)[-1] if len(re.findall('\\\\d+', x)) != 0 else \"\", df[\"cargoVolume\"]))\n",
    "df['cargoVolume'] = pd.to_numeric(df['cargoVolume'], errors='coerce')\n",
    "df['cargoVolume'], df['cargoVolume'].isna().sum()"
   ]
  },
  {
   "cell_type": "code",
   "execution_count": 21,
   "metadata": {},
   "outputs": [
    {
     "data": {
      "text/plain": [
       "(0        1068.0\n",
       " 1        1093.0\n",
       " 2        1126.0\n",
       " 3        1017.0\n",
       " 4        1156.0\n",
       "           ...  \n",
       " 45619    1345.0\n",
       " 45620    1390.0\n",
       " 45621    1345.0\n",
       " 45622    1345.0\n",
       " 45623    1430.0\n",
       " Name: curbWeight, Length: 45624, dtype: float64,\n",
       " 115)"
      ]
     },
     "execution_count": 21,
     "metadata": {},
     "output_type": "execute_result"
    }
   ],
   "source": [
    "# curbWeight\n",
    "# remove \"kg\" part and take number if exists\n",
    "df['curbWeight'] = list(map(lambda x: re.findall('\\\\d+', x)[-1] if len(re.findall('\\\\d+', x)) != 0 else \"\", df['curbWeight']))\n",
    "df['curbWeight'] = pd.to_numeric(df['curbWeight'], errors='coerce')\n",
    "df['curbWeight'], df['curbWeight'].isna().sum()"
   ]
  },
  {
   "cell_type": "code",
   "execution_count": 23,
   "id": "327a14dd",
   "metadata": {},
   "outputs": [
    {
     "data": {
      "text/plain": [
       "0        front\n",
       "1        front\n",
       "2        front\n",
       "3        front\n",
       "4        front\n",
       "         ...  \n",
       "45619    front\n",
       "45620    front\n",
       "45621    front\n",
       "45622    front\n",
       "45623    front\n",
       "Name: driveWheelConfiguration, Length: 45624, dtype: object"
      ]
     },
     "execution_count": 23,
     "metadata": {},
     "output_type": "execute_result"
    }
   ],
   "source": [
    "df['driveWheelConfiguration']"
   ]
  },
  {
   "cell_type": "code",
   "execution_count": 24,
   "metadata": {},
   "outputs": [
    {
     "name": "stdout",
     "output_type": "stream",
     "text": [
      "before 0\n"
     ]
    },
    {
     "data": {
      "text/plain": [
       "8140"
      ]
     },
     "execution_count": 24,
     "metadata": {},
     "output_type": "execute_result"
    }
   ],
   "source": [
    "# emissionsCO2\n",
    "# remove \"g/km\" part and fill na if not exists\n",
    "\n",
    "print('before', df['emissionsCO2'].isna().sum())\n",
    "df['emissionsCO2'] = list(map(lambda x: re.findall('\\\\d+', x)[-1] if len(re.findall('\\\\d+', x)) != 0 else np.nan, df['emissionsCO2']))\n",
    "df['emissionsCO2'] = pd.to_numeric(df['emissionsCO2'], errors='coerce')\n",
    "df['emissionsCO2'] = df['emissionsCO2'].replace(0, np.nan)\n",
    "df['emissionsCO2'].isna().sum()"
   ]
  },
  {
   "cell_type": "code",
   "execution_count": 25,
   "metadata": {},
   "outputs": [
    {
     "data": {
      "text/plain": [
       "0        174.0\n",
       "1        210.0\n",
       "2        196.0\n",
       "3          NaN\n",
       "4        229.0\n",
       "         ...  \n",
       "45619    220.0\n",
       "45620    279.0\n",
       "45621    220.0\n",
       "45622    220.0\n",
       "45623    258.0\n",
       "Name: emissionsCO2, Length: 45624, dtype: float64"
      ]
     },
     "execution_count": 25,
     "metadata": {},
     "output_type": "execute_result"
    }
   ],
   "source": [
    "df['emissionsCO2']"
   ]
  },
  {
   "cell_type": "code",
   "execution_count": 26,
   "metadata": {},
   "outputs": [
    {
     "data": {
      "text/plain": [
       "0        1495.0\n",
       "1        1495.0\n",
       "2        1976.0\n",
       "3        1468.0\n",
       "4        1976.0\n",
       "          ...  \n",
       "45619    1970.0\n",
       "45620    2959.0\n",
       "45621    1970.0\n",
       "45622    1970.0\n",
       "45623    1996.0\n",
       "Name: engineCapacity, Length: 45624, dtype: float64"
      ]
     },
     "execution_count": 26,
     "metadata": {},
     "output_type": "execute_result"
    }
   ],
   "source": [
    "# engineCapacity\n",
    "# take only number\n",
    "df['engineCapacity'] = list(map(lambda x: re.findall('\\\\d+', x)[-1] if len(re.findall('\\\\d+', x)) != 0 else np.nan, df['engineCapacity'].apply(str)))\n",
    "df['engineCapacity'] = pd.to_numeric(df['engineCapacity'], errors='coerce')\n",
    "df['engineCapacity']"
   ]
  },
  {
   "cell_type": "code",
   "execution_count": null,
   "metadata": {},
   "outputs": [],
   "source": []
  },
  {
   "cell_type": "code",
   "execution_count": 27,
   "metadata": {},
   "outputs": [
    {
     "data": {
      "text/plain": [
       "(0        55.0\n",
       " 1        55.0\n",
       " 2        55.0\n",
       " 3        52.0\n",
       " 4        55.0\n",
       "          ... \n",
       " 45619    70.0\n",
       " 45620    70.0\n",
       " 45621    70.0\n",
       " 45622    70.0\n",
       " 45623    70.0\n",
       " Name: fuelCapacity, Length: 45624, dtype: float64,\n",
       " 185)"
      ]
     },
     "execution_count": 27,
     "metadata": {},
     "output_type": "execute_result"
    }
   ],
   "source": [
    "df['fuelCapacity'] = list(map(lambda x: re.findall('\\\\d+', x)[-1] if len(re.findall('\\\\d+', x)) != 0 else np.nan, df['fuelCapacity'].apply(str)))\n",
    "df['fuelCapacity'] = pd.to_numeric(df['fuelCapacity'], errors='coerce')\n",
    "df['fuelCapacity'], df['fuelCapacity'].isna().sum()"
   ]
  },
  {
   "cell_type": "code",
   "execution_count": 28,
   "metadata": {},
   "outputs": [
    {
     "data": {
      "text/plain": [
       "0         7.3\n",
       "1         8.8\n",
       "2         8.2\n",
       "3         7.9\n",
       "4         9.6\n",
       "         ... \n",
       "45619     9.2\n",
       "45620    11.7\n",
       "45621     9.2\n",
       "45622     9.2\n",
       "45623    10.8\n",
       "Name: fuelConsumption, Length: 45624, dtype: float64"
      ]
     },
     "execution_count": 28,
     "metadata": {},
     "output_type": "execute_result"
    }
   ],
   "source": [
    "# fuelConsumption\n",
    "df['fuelConsumption'] = list(map(lambda x: x.replace(\"l/100km\", \"\").replace(\",\", \".\"), df['fuelConsumption'].apply(str)))\n",
    "df['fuelConsumption'] = pd.to_numeric(df['fuelConsumption'], errors='coerce')\n",
    "df['fuelConsumption']"
   ]
  },
  {
   "cell_type": "code",
   "execution_count": 29,
   "metadata": {},
   "outputs": [
    {
     "data": {
      "text/plain": [
       "901"
      ]
     },
     "execution_count": 29,
     "metadata": {},
     "output_type": "execute_result"
    }
   ],
   "source": [
    "df['fuelConsumption'].isna().sum()"
   ]
  },
  {
   "cell_type": "code",
   "execution_count": 30,
   "metadata": {},
   "outputs": [
    {
     "data": {
      "text/plain": [
       "170"
      ]
     },
     "execution_count": 30,
     "metadata": {},
     "output_type": "execute_result"
    }
   ],
   "source": [
    "# fuelType\n",
    "df['fuelType'] = df['fuelType'].astype(\"string\")\n",
    "df['fuelType'].isna().sum()"
   ]
  },
  {
   "cell_type": "code",
   "execution_count": 31,
   "metadata": {},
   "outputs": [
    {
     "data": {
      "text/plain": [
       "fuelType\n",
       "Gasoline                  28018\n",
       "Diesel                    16954\n",
       "Bio ethanol                 199\n",
       "Natural gas / gasoline      112\n",
       "LPG / gasoline               73\n",
       "Natural gas                  46\n",
       "Bio ethanol / gasoline       28\n",
       "LPG                          19\n",
       "Gasoline / bio ethanol        5\n",
       "Name: count, dtype: Int64"
      ]
     },
     "execution_count": 31,
     "metadata": {},
     "output_type": "execute_result"
    }
   ],
   "source": [
    "df['fuelType'].value_counts()"
   ]
  },
  {
   "cell_type": "code",
   "execution_count": 32,
   "metadata": {},
   "outputs": [
    {
     "data": {
      "text/plain": [
       "0        1395.0\n",
       "1        1395.0\n",
       "2        1395.0\n",
       "3        1385.0\n",
       "4        1395.0\n",
       "          ...  \n",
       "45619    1318.0\n",
       "45620    1318.0\n",
       "45621    1318.0\n",
       "45622    1318.0\n",
       "45623    1318.0\n",
       "Name: height, Length: 45624, dtype: float64"
      ]
     },
     "execution_count": 32,
     "metadata": {},
     "output_type": "execute_result"
    }
   ],
   "source": [
    "# height\n",
    "df['height'] = list(map(lambda x: re.findall('\\\\d+', x)[-1] if len(re.findall('\\\\d+', x)) != 0 else np.nan, df['height'].apply(str)))\n",
    "df['height'] = pd.to_numeric(df['height'], errors='coerce')\n",
    "df['height']"
   ]
  },
  {
   "cell_type": "code",
   "execution_count": 33,
   "metadata": {},
   "outputs": [
    {
     "data": {
      "text/plain": [
       "0        4450.0\n",
       "1        4450.0\n",
       "2        4450.0\n",
       "3        4358.0\n",
       "4        4450.0\n",
       "          ...  \n",
       "45619    4285.0\n",
       "45620    4285.0\n",
       "45621    4299.0\n",
       "45622    4299.0\n",
       "45623    4285.0\n",
       "Name: length, Length: 45624, dtype: float64"
      ]
     },
     "execution_count": 33,
     "metadata": {},
     "output_type": "execute_result"
    }
   ],
   "source": [
    "# length\n",
    "df['length'] = list(map(lambda x: re.findall('\\\\d+', x)[-1] if len(re.findall('\\\\d+', x)) != 0 else np.nan, df['length'].apply(str)))\n",
    "df['length'] = pd.to_numeric(df['length'], errors='coerce')\n",
    "df['length']"
   ]
  },
  {
   "cell_type": "code",
   "execution_count": 34,
   "metadata": {},
   "outputs": [],
   "source": [
    "df['model'] = df['model'].astype('string')"
   ]
  },
  {
   "cell_type": "code",
   "execution_count": 35,
   "metadata": {},
   "outputs": [
    {
     "data": {
      "text/plain": [
       "0"
      ]
     },
     "execution_count": 35,
     "metadata": {},
     "output_type": "execute_result"
    }
   ],
   "source": [
    "df['model'].isna().sum()"
   ]
  },
  {
   "cell_type": "code",
   "execution_count": 36,
   "metadata": {},
   "outputs": [
    {
     "data": {
      "text/plain": [
       "0        1998\n",
       "1        1998\n",
       "2        1998\n",
       "3        1991\n",
       "4        1998\n",
       "         ... \n",
       "45619    1998\n",
       "45620    1998\n",
       "45621    2003\n",
       "45622    2003\n",
       "45623    1998\n",
       "Name: modelDate, Length: 45624, dtype: Int32"
      ]
     },
     "execution_count": 36,
     "metadata": {},
     "output_type": "execute_result"
    }
   ],
   "source": [
    "# modelDate\n",
    "df['modelDate'] = df['modelDate'].astype('Int32')\n",
    "df['modelDate']"
   ]
  },
  {
   "cell_type": "code",
   "execution_count": 37,
   "metadata": {},
   "outputs": [],
   "source": [
    "# numberOfForwardGears\n",
    "df['numberOfForwardGears'] = df['numberOfForwardGears'].replace('t', np.nan)"
   ]
  },
  {
   "cell_type": "code",
   "execution_count": 38,
   "metadata": {},
   "outputs": [
    {
     "data": {
      "text/plain": [
       "1224"
      ]
     },
     "execution_count": 38,
     "metadata": {},
     "output_type": "execute_result"
    }
   ],
   "source": [
    "df['numberOfForwardGears'].isna().sum()"
   ]
  },
  {
   "cell_type": "code",
   "execution_count": 39,
   "metadata": {},
   "outputs": [
    {
     "data": {
      "text/plain": [
       "0        582.0\n",
       "1        557.0\n",
       "2        559.0\n",
       "3        493.0\n",
       "4        529.0\n",
       "         ...  \n",
       "45619    435.0\n",
       "45620    430.0\n",
       "45621    460.0\n",
       "45622    460.0\n",
       "45623    390.0\n",
       "Name: payload, Length: 45624, dtype: float64"
      ]
     },
     "execution_count": 39,
     "metadata": {},
     "output_type": "execute_result"
    }
   ],
   "source": [
    "# payload\n",
    "df['payload'] = list(map(lambda x: re.findall('\\\\d+', x)[-1] if len(re.findall('\\\\d+', x)) != 0 else np.nan, df['payload'].apply(str)))\n",
    "df['payload'] = pd.to_numeric(df['payload'], errors='coerce')\n",
    "df['payload']"
   ]
  },
  {
   "cell_type": "code",
   "execution_count": 40,
   "metadata": {},
   "outputs": [
    {
     "data": {
      "text/plain": [
       "0        14.972\n",
       "1        16.334\n",
       "2        16.561\n",
       "3        14.044\n",
       "4        17.922\n",
       "          ...  \n",
       "45619    36.280\n",
       "45620    39.456\n",
       "45621    35.995\n",
       "45622    37.350\n",
       "45623    38.776\n",
       "Name: price, Length: 45624, dtype: float64"
      ]
     },
     "execution_count": 40,
     "metadata": {},
     "output_type": "execute_result"
    }
   ],
   "source": [
    "# price\n",
    "df['price'] = list(map(lambda x: re.findall('\\\\d+.*\\\\d*', x)[-1] if len(re.findall('\\\\d+', x)) != 0 else np.nan, df['price'].apply(str)))\n",
    "df['price'] = pd.to_numeric(df['price'], errors='coerce')\n",
    "df['price']"
   ]
  },
  {
   "cell_type": "code",
   "execution_count": 41,
   "metadata": {},
   "outputs": [
    {
     "data": {
      "text/plain": [
       "72"
      ]
     },
     "execution_count": 41,
     "metadata": {},
     "output_type": "execute_result"
    }
   ],
   "source": [
    "df['price'] = df['price'].replace(0, np.nan)\n",
    "df['price'].isna().sum()"
   ]
  },
  {
   "cell_type": "code",
   "execution_count": 42,
   "metadata": {},
   "outputs": [
    {
     "data": {
      "text/plain": [
       "0        50.0\n",
       "1        50.0\n",
       "2        50.0\n",
       "3        60.0\n",
       "4        50.0\n",
       "         ... \n",
       "45619     NaN\n",
       "45620     NaN\n",
       "45621     NaN\n",
       "45622     NaN\n",
       "45623     NaN\n",
       "Name: roofLoad, Length: 45624, dtype: float64"
      ]
     },
     "execution_count": 42,
     "metadata": {},
     "output_type": "execute_result"
    }
   ],
   "source": [
    "# roofLoad\n",
    "df['roofLoad'] = list(map(lambda x: re.findall('\\\\d+', x)[-1] if len(re.findall('\\\\d+', x)) != 0 else np.nan, df['roofLoad'].apply(str)))\n",
    "df['roofLoad'] = pd.to_numeric(df['roofLoad'], errors='coerce')\n",
    "df['roofLoad']"
   ]
  },
  {
   "cell_type": "code",
   "execution_count": 43,
   "metadata": {},
   "outputs": [
    {
     "data": {
      "text/plain": [
       "7268"
      ]
     },
     "execution_count": 43,
     "metadata": {},
     "output_type": "execute_result"
    }
   ],
   "source": [
    "df['roofLoad'].isna().sum()"
   ]
  },
  {
   "cell_type": "code",
   "execution_count": 44,
   "metadata": {},
   "outputs": [
    {
     "data": {
      "text/plain": [
       "0        5.0\n",
       "1        5.0\n",
       "2        5.0\n",
       "3        5.0\n",
       "4        5.0\n",
       "        ... \n",
       "45619    4.0\n",
       "45620    4.0\n",
       "45621    4.0\n",
       "45622    4.0\n",
       "45623    4.0\n",
       "Name: seatingCapacity, Length: 45624, dtype: float64"
      ]
     },
     "execution_count": 44,
     "metadata": {},
     "output_type": "execute_result"
    }
   ],
   "source": [
    "# seating Capacity\n",
    "df['seatingCapacity'] = pd.to_numeric(df['seatingCapacity'], errors='coerce')\n",
    "df['seatingCapacity'] = df['seatingCapacity'].replace(0, np.nan)\n",
    "df['seatingCapacity']"
   ]
  },
  {
   "cell_type": "code",
   "execution_count": 45,
   "metadata": {},
   "outputs": [
    {
     "data": {
      "text/plain": [
       "1749"
      ]
     },
     "execution_count": 45,
     "metadata": {},
     "output_type": "execute_result"
    }
   ],
   "source": [
    "df['seatingCapacity'].isna().sum()"
   ]
  },
  {
   "cell_type": "code",
   "execution_count": 46,
   "metadata": {},
   "outputs": [
    {
     "data": {
      "text/plain": [
       "0        178.0\n",
       "1        166.0\n",
       "2        202.0\n",
       "3        165.0\n",
       "4        187.0\n",
       "         ...  \n",
       "45619    216.0\n",
       "45620    250.0\n",
       "45621    215.0\n",
       "45622    220.0\n",
       "45623    235.0\n",
       "Name: speed, Length: 45624, dtype: float64"
      ]
     },
     "execution_count": 46,
     "metadata": {},
     "output_type": "execute_result"
    }
   ],
   "source": [
    "# speed\n",
    "df['speed'] = list(map(lambda x: re.findall('\\\\d+', x)[-1] if len(re.findall('\\\\d+', x)) != 0 else np.nan, df['speed'].apply(str)))\n",
    "df['speed'] = pd.to_numeric(df['speed'], errors='coerce')\n",
    "df['speed']"
   ]
  },
  {
   "cell_type": "code",
   "execution_count": 47,
   "metadata": {},
   "outputs": [
    {
     "data": {
      "text/plain": [
       "1105"
      ]
     },
     "execution_count": 47,
     "metadata": {},
     "output_type": "execute_result"
    }
   ],
   "source": [
    "df['speed'].isna().sum()"
   ]
  },
  {
   "cell_type": "code",
   "execution_count": 48,
   "metadata": {},
   "outputs": [
    {
     "data": {
      "text/plain": [
       "0        129.0\n",
       "1        129.0\n",
       "2        182.0\n",
       "3        124.0\n",
       "4        182.0\n",
       "         ...  \n",
       "45619    187.0\n",
       "45620    270.0\n",
       "45621    181.0\n",
       "45622    206.0\n",
       "45623    271.0\n",
       "Name: torque, Length: 45624, dtype: float64"
      ]
     },
     "execution_count": 48,
     "metadata": {},
     "output_type": "execute_result"
    }
   ],
   "source": [
    "# torque\n",
    "df['torque'] = list(map(lambda x: re.findall('\\\\d+', x)[-1] if len(re.findall('\\\\d+', x)) != 0 else np.nan, df['torque'].apply(str)))\n",
    "df['torque'] = pd.to_numeric(df['torque'], errors='coerce')\n",
    "df['torque']"
   ]
  },
  {
   "cell_type": "code",
   "execution_count": 49,
   "metadata": {},
   "outputs": [
    {
     "data": {
      "text/plain": [
       "0        1495.0\n",
       "1        1495.0\n",
       "2        1976.0\n",
       "3        1468.0\n",
       "4        1976.0\n",
       "          ...  \n",
       "45619    1970.0\n",
       "45620    2959.0\n",
       "45621    1970.0\n",
       "45622    1970.0\n",
       "45623    1996.0\n",
       "Name: vEengineDisplacement, Length: 45624, dtype: float64"
      ]
     },
     "execution_count": 49,
     "metadata": {},
     "output_type": "execute_result"
    }
   ],
   "source": [
    "# vEengineDisplacement\n",
    "df['vEengineDisplacement'] = list(map(lambda x: re.findall('\\\\d+', x)[-1] if len(re.findall('\\\\d+', x)) != 0 else np.nan, df['vEengineDisplacement'].apply(str)))\n",
    "df['vEengineDisplacement'] = pd.to_numeric(df['vEengineDisplacement'], errors='coerce')\n",
    "df['vEengineDisplacement']"
   ]
  },
  {
   "cell_type": "code",
   "execution_count": 50,
   "metadata": {},
   "outputs": [
    {
     "data": {
      "text/plain": [
       "0         65.0\n",
       "1         65.0\n",
       "2        102.0\n",
       "3         63.0\n",
       "4        102.0\n",
       "         ...  \n",
       "45619    114.0\n",
       "45620    162.0\n",
       "45621    110.0\n",
       "45622    121.0\n",
       "45623    147.0\n",
       "Name: vEenginePower, Length: 45624, dtype: float64"
      ]
     },
     "execution_count": 50,
     "metadata": {},
     "output_type": "execute_result"
    }
   ],
   "source": [
    "# vEenginePower\n",
    "df['vEenginePower'] = pd.to_numeric(df['vEenginePower'], errors='coerce')\n",
    "df['vEenginePower']"
   ]
  },
  {
   "cell_type": "code",
   "execution_count": 51,
   "metadata": {},
   "outputs": [
    {
     "data": {
      "text/plain": [
       "0        fuel engine\n",
       "1        fuel engine\n",
       "2        fuel engine\n",
       "3        fuel engine\n",
       "4        fuel engine\n",
       "            ...     \n",
       "45619    fuel engine\n",
       "45620    fuel engine\n",
       "45621    fuel engine\n",
       "45622    fuel engine\n",
       "45623    fuel engine\n",
       "Name: vEengineType, Length: 45624, dtype: string"
      ]
     },
     "execution_count": 51,
     "metadata": {},
     "output_type": "execute_result"
    }
   ],
   "source": [
    "# vEengineType\n",
    "df['vEengineType'] = df['vEengineType'].astype(\"string\")\n",
    "df['vEengineType']"
   ]
  },
  {
   "cell_type": "code",
   "execution_count": 52,
   "metadata": {},
   "outputs": [
    {
     "data": {
      "text/plain": [
       "0        Manual transmission\n",
       "1                  Automatic\n",
       "2        Manual transmission\n",
       "3        Manual transmission\n",
       "4                  Automatic\n",
       "                ...         \n",
       "45619    Manual transmission\n",
       "45620    Manual transmission\n",
       "45621    Manual transmission\n",
       "45622    Manual transmission\n",
       "45623    Manual transmission\n",
       "Name: vehicleTransmission, Length: 45624, dtype: string"
      ]
     },
     "execution_count": 52,
     "metadata": {},
     "output_type": "execute_result"
    }
   ],
   "source": [
    "# vehicleTransmission\n",
    "df['vehicleTransmission'] = df['vehicleTransmission'].astype(\"string\")\n",
    "df['vehicleTransmission']"
   ]
  },
  {
   "cell_type": "code",
   "execution_count": 53,
   "metadata": {},
   "outputs": [
    {
     "data": {
      "text/plain": [
       "0        1650.0\n",
       "1        1650.0\n",
       "2        1685.0\n",
       "3        1510.0\n",
       "4        1685.0\n",
       "          ...  \n",
       "45619    1780.0\n",
       "45620    1820.0\n",
       "45621    1805.0\n",
       "45622    1805.0\n",
       "45623    1820.0\n",
       "Name: weightTotal, Length: 45624, dtype: float64"
      ]
     },
     "execution_count": 53,
     "metadata": {},
     "output_type": "execute_result"
    }
   ],
   "source": [
    "# weightTotal\n",
    "df['weightTotal'] = list(map(lambda x: re.findall('\\\\d+', x)[-1] if len(re.findall('\\\\d+', x)) != 0 else np.nan, df['weightTotal'].apply(str)))\n",
    "df['weightTotal'] = pd.to_numeric(df['weightTotal'], errors='coerce')\n",
    "df['weightTotal']"
   ]
  },
  {
   "cell_type": "code",
   "execution_count": 54,
   "metadata": {},
   "outputs": [
    {
     "data": {
      "text/plain": [
       "0        2550.0\n",
       "1        2550.0\n",
       "2        2550.0\n",
       "3        2500.0\n",
       "4        2550.0\n",
       "          ...  \n",
       "45619    2540.0\n",
       "45620    2540.0\n",
       "45621    2540.0\n",
       "45622    2540.0\n",
       "45623    2540.0\n",
       "Name: wheelbase, Length: 45624, dtype: float64"
      ]
     },
     "execution_count": 54,
     "metadata": {},
     "output_type": "execute_result"
    }
   ],
   "source": [
    "# wheelbase\n",
    "df['wheelbase'] = list(map(lambda x: re.findall('\\\\d+', x)[-1] if len(re.findall('\\\\d+', x)) != 0 else np.nan, df['wheelbase'].apply(str)))\n",
    "df['wheelbase'] = pd.to_numeric(df['wheelbase'], errors='coerce')\n",
    "df['wheelbase']"
   ]
  },
  {
   "cell_type": "code",
   "execution_count": 55,
   "metadata": {},
   "outputs": [
    {
     "data": {
      "text/plain": [
       "0        1700.0\n",
       "1        1700.0\n",
       "2        1700.0\n",
       "3        1675.0\n",
       "4        1700.0\n",
       "          ...  \n",
       "45619    1780.0\n",
       "45620    1780.0\n",
       "45621    1776.0\n",
       "45622    1776.0\n",
       "45623    1780.0\n",
       "Name: width, Length: 45624, dtype: float64"
      ]
     },
     "execution_count": 55,
     "metadata": {},
     "output_type": "execute_result"
    }
   ],
   "source": [
    "# width\n",
    "df['width'] = list(map(lambda x: re.findall('\\\\d+', x)[-1] if len(re.findall('\\\\d+', x)) != 0 else np.nan, df['width'].apply(str)))\n",
    "df['width'] = pd.to_numeric(df['width'], errors='coerce')\n",
    "df['width']"
   ]
  },
  {
   "cell_type": "code",
   "execution_count": 56,
   "metadata": {},
   "outputs": [
    {
     "name": "stdout",
     "output_type": "stream",
     "text": [
      "<class 'pandas.core.frame.DataFrame'>\n",
      "RangeIndex: 45624 entries, 0 to 45623\n",
      "Data columns (total 31 columns):\n",
      " #   Column                   Non-Null Count  Dtype  \n",
      "---  ------                   --------------  -----  \n",
      " 0   accelerationTime         42149 non-null  float64\n",
      " 1   bodyType                 45624 non-null  string \n",
      " 2   brand                    45624 non-null  string \n",
      " 3   cargoVolume              44753 non-null  float64\n",
      " 4   curbWeight               45509 non-null  float64\n",
      " 5   driveWheelConfiguration  45624 non-null  object \n",
      " 6   emissionsCO2             37484 non-null  float64\n",
      " 7   engineCapacity           45434 non-null  float64\n",
      " 8   fuelCapacity             45439 non-null  float64\n",
      " 9   fuelConsumption          44723 non-null  float64\n",
      " 10  fuelType                 45454 non-null  string \n",
      " 11  height                   45593 non-null  float64\n",
      " 12  length                   45615 non-null  float64\n",
      " 13  model                    45624 non-null  string \n",
      " 14  modelDate                45624 non-null  Int32  \n",
      " 15  numberOfDoors            45624 non-null  int64  \n",
      " 16  numberOfForwardGears     44400 non-null  object \n",
      " 17  payload                  45079 non-null  float64\n",
      " 18  price                    45552 non-null  float64\n",
      " 19  roofLoad                 38356 non-null  float64\n",
      " 20  seatingCapacity          43875 non-null  float64\n",
      " 21  speed                    44519 non-null  float64\n",
      " 22  torque                   45533 non-null  float64\n",
      " 23  vEengineDisplacement     45434 non-null  float64\n",
      " 24  vEenginePower            45601 non-null  float64\n",
      " 25  vEengineType             45624 non-null  string \n",
      " 26  vEfuelType               45454 non-null  object \n",
      " 27  vehicleTransmission      45624 non-null  string \n",
      " 28  weightTotal              45087 non-null  float64\n",
      " 29  wheelbase                45611 non-null  float64\n",
      " 30  width                    45610 non-null  float64\n",
      "dtypes: Int32(1), float64(20), int64(1), object(3), string(6)\n",
      "memory usage: 10.7+ MB\n"
     ]
    }
   ],
   "source": [
    "df.info(verbose=True) "
   ]
  },
  {
   "cell_type": "code",
   "execution_count": 57,
   "metadata": {},
   "outputs": [
    {
     "name": "stdout",
     "output_type": "stream",
     "text": [
      "<class 'pandas.core.frame.DataFrame'>\n",
      "Index: 27400 entries, 0 to 45485\n",
      "Data columns (total 31 columns):\n",
      " #   Column                   Non-Null Count  Dtype  \n",
      "---  ------                   --------------  -----  \n",
      " 0   accelerationTime         27400 non-null  float64\n",
      " 1   bodyType                 27400 non-null  string \n",
      " 2   brand                    27400 non-null  string \n",
      " 3   cargoVolume              27400 non-null  float64\n",
      " 4   curbWeight               27400 non-null  float64\n",
      " 5   driveWheelConfiguration  27400 non-null  object \n",
      " 6   emissionsCO2             27400 non-null  float64\n",
      " 7   engineCapacity           27400 non-null  float64\n",
      " 8   fuelCapacity             27400 non-null  float64\n",
      " 9   fuelConsumption          27400 non-null  float64\n",
      " 10  fuelType                 27400 non-null  string \n",
      " 11  height                   27400 non-null  float64\n",
      " 12  length                   27400 non-null  float64\n",
      " 13  model                    27400 non-null  string \n",
      " 14  modelDate                27400 non-null  Int32  \n",
      " 15  numberOfDoors            27400 non-null  int64  \n",
      " 16  numberOfForwardGears     27400 non-null  object \n",
      " 17  payload                  27400 non-null  float64\n",
      " 18  price                    27400 non-null  float64\n",
      " 19  roofLoad                 27400 non-null  float64\n",
      " 20  seatingCapacity          27400 non-null  float64\n",
      " 21  speed                    27400 non-null  float64\n",
      " 22  torque                   27400 non-null  float64\n",
      " 23  vEengineDisplacement     27400 non-null  float64\n",
      " 24  vEenginePower            27400 non-null  float64\n",
      " 25  vEengineType             27400 non-null  string \n",
      " 26  vEfuelType               27400 non-null  object \n",
      " 27  vehicleTransmission      27400 non-null  string \n",
      " 28  weightTotal              27400 non-null  float64\n",
      " 29  wheelbase                27400 non-null  float64\n",
      " 30  width                    27400 non-null  float64\n",
      "dtypes: Int32(1), float64(20), int64(1), object(3), string(6)\n",
      "memory usage: 6.6+ MB\n"
     ]
    }
   ],
   "source": [
    "df1 = df.copy()\n",
    "df1 = df1.dropna()\n",
    "df1.info(verbose=True)"
   ]
  },
  {
   "cell_type": "code",
   "execution_count": 58,
   "metadata": {},
   "outputs": [
    {
     "data": {
      "text/plain": [
       "0        front\n",
       "1        front\n",
       "2        front\n",
       "3        front\n",
       "4        front\n",
       "         ...  \n",
       "45619    front\n",
       "45620    front\n",
       "45621    front\n",
       "45622    front\n",
       "45623    front\n",
       "Name: driveWheelConfiguration, Length: 45624, dtype: object"
      ]
     },
     "execution_count": 58,
     "metadata": {},
     "output_type": "execute_result"
    }
   ],
   "source": [
    "df['driveWheelConfiguration']"
   ]
  },
  {
   "cell_type": "code",
   "execution_count": 59,
   "metadata": {},
   "outputs": [
    {
     "data": {
      "text/plain": [
       "driveWheelConfiguration\n",
       "front         32350\n",
       "rear           7284\n",
       "front+rear     5990\n",
       "Name: count, dtype: int64"
      ]
     },
     "execution_count": 59,
     "metadata": {},
     "output_type": "execute_result"
    }
   ],
   "source": [
    "df['driveWheelConfiguration'].value_counts()"
   ]
  },
  {
   "cell_type": "code",
   "execution_count": 60,
   "metadata": {},
   "outputs": [
    {
     "data": {
      "text/plain": [
       "numberOfDoors\n",
       "5    25285\n",
       "4    12008\n",
       "3     5339\n",
       "2     2992\n",
       "Name: count, dtype: int64"
      ]
     },
     "execution_count": 60,
     "metadata": {},
     "output_type": "execute_result"
    }
   ],
   "source": [
    "df['numberOfDoors'].value_counts()"
   ]
  },
  {
   "cell_type": "code",
   "execution_count": 61,
   "metadata": {},
   "outputs": [
    {
     "data": {
      "text/plain": [
       "vEfuelType\n",
       "Gasoline                  28018\n",
       "Diesel                    16954\n",
       "Bio ethanol                 199\n",
       "Natural gas / gasoline      112\n",
       "LPG / gasoline               73\n",
       "Natural gas                  46\n",
       "Bio ethanol / gasoline       28\n",
       "LPG                          19\n",
       "Gasoline / bio ethanol        5\n",
       "Name: count, dtype: int64"
      ]
     },
     "execution_count": 61,
     "metadata": {},
     "output_type": "execute_result"
    }
   ],
   "source": [
    "df['vEfuelType'].value_counts()"
   ]
  },
  {
   "cell_type": "code",
   "execution_count": 62,
   "metadata": {},
   "outputs": [
    {
     "name": "stdout",
     "output_type": "stream",
     "text": [
      "<class 'pandas.core.frame.DataFrame'>\n",
      "RangeIndex: 45624 entries, 0 to 45623\n",
      "Data columns (total 31 columns):\n",
      " #   Column                   Non-Null Count  Dtype  \n",
      "---  ------                   --------------  -----  \n",
      " 0   accelerationTime         42149 non-null  float64\n",
      " 1   bodyType                 45624 non-null  string \n",
      " 2   brand                    45624 non-null  string \n",
      " 3   cargoVolume              44753 non-null  float64\n",
      " 4   curbWeight               45509 non-null  float64\n",
      " 5   driveWheelConfiguration  45624 non-null  object \n",
      " 6   emissionsCO2             37484 non-null  float64\n",
      " 7   engineCapacity           45434 non-null  float64\n",
      " 8   fuelCapacity             45439 non-null  float64\n",
      " 9   fuelConsumption          44723 non-null  float64\n",
      " 10  fuelType                 45454 non-null  string \n",
      " 11  height                   45593 non-null  float64\n",
      " 12  length                   45615 non-null  float64\n",
      " 13  model                    45624 non-null  string \n",
      " 14  modelDate                45624 non-null  Int32  \n",
      " 15  numberOfDoors            45624 non-null  int64  \n",
      " 16  numberOfForwardGears     44400 non-null  object \n",
      " 17  payload                  45079 non-null  float64\n",
      " 18  price                    45552 non-null  float64\n",
      " 19  roofLoad                 38356 non-null  float64\n",
      " 20  seatingCapacity          43875 non-null  float64\n",
      " 21  speed                    44519 non-null  float64\n",
      " 22  torque                   45533 non-null  float64\n",
      " 23  vEengineDisplacement     45434 non-null  float64\n",
      " 24  vEenginePower            45601 non-null  float64\n",
      " 25  vEengineType             45624 non-null  string \n",
      " 26  vEfuelType               45454 non-null  object \n",
      " 27  vehicleTransmission      45624 non-null  string \n",
      " 28  weightTotal              45087 non-null  float64\n",
      " 29  wheelbase                45611 non-null  float64\n",
      " 30  width                    45610 non-null  float64\n",
      "dtypes: Int32(1), float64(20), int64(1), object(3), string(6)\n",
      "memory usage: 10.7+ MB\n"
     ]
    }
   ],
   "source": [
    "df.info(verbose=True)"
   ]
  },
  {
   "cell_type": "code",
   "execution_count": 57,
   "metadata": {},
   "outputs": [
    {
     "name": "stdout",
     "output_type": "stream",
     "text": [
      "<class 'pandas.core.frame.DataFrame'>\n",
      "Index: 27400 entries, 0 to 45485\n",
      "Data columns (total 32 columns):\n",
      " #   Column                   Non-Null Count  Dtype  \n",
      "---  ------                   --------------  -----  \n",
      " 0   accelerationTime         27400 non-null  float64\n",
      " 1   bodyType                 27400 non-null  string \n",
      " 2   brand                    27400 non-null  string \n",
      " 3   cargoVolume              27400 non-null  float64\n",
      " 4   curbWeight               27400 non-null  float64\n",
      " 5   driveWheelConfiguration  27400 non-null  object \n",
      " 6   eLabel                   27400 non-null  string \n",
      " 7   emissionsCO2             27400 non-null  float64\n",
      " 8   engineCapacity           27400 non-null  float64\n",
      " 9   fuelCapacity             27400 non-null  float64\n",
      " 10  fuelConsumption          27400 non-null  float64\n",
      " 11  fuelType                 27400 non-null  string \n",
      " 12  height                   27400 non-null  float64\n",
      " 13  length                   27400 non-null  float64\n",
      " 14  model                    27400 non-null  string \n",
      " 15  modelDate                27400 non-null  Int32  \n",
      " 16  numberOfDoors            27400 non-null  int64  \n",
      " 17  numberOfForwardGears     27400 non-null  object \n",
      " 18  payload                  27400 non-null  float64\n",
      " 19  price                    27400 non-null  float64\n",
      " 20  roofLoad                 27400 non-null  float64\n",
      " 21  seatingCapacity          27400 non-null  float64\n",
      " 22  speed                    27400 non-null  float64\n",
      " 23  torque                   27400 non-null  float64\n",
      " 24  vEengineDisplacement     27400 non-null  float64\n",
      " 25  vEenginePower            27400 non-null  float64\n",
      " 26  vEengineType             27400 non-null  string \n",
      " 27  vEfuelType               27400 non-null  object \n",
      " 28  vehicleTransmission      27400 non-null  string \n",
      " 29  weightTotal              27400 non-null  float64\n",
      " 30  wheelbase                27400 non-null  float64\n",
      " 31  width                    27400 non-null  float64\n",
      "dtypes: Int32(1), float64(20), int64(1), object(3), string(7)\n",
      "memory usage: 6.8+ MB\n"
     ]
    }
   ],
   "source": [
    "df1 = df.copy()\n",
    "df1 = df1.dropna()\n",
    "df1.info(verbose=True)"
   ]
  },
  {
   "cell_type": "code",
   "execution_count": 60,
   "metadata": {},
   "outputs": [],
   "source": [
    "# drop vEfuelType column\n",
    "df1 = df1.drop(['vEfuelType'], axis=1)"
   ]
  },
  {
   "cell_type": "code",
   "execution_count": 61,
   "metadata": {},
   "outputs": [],
   "source": [
    "df1.to_csv('cars_data_10_cleaning.csv', index=False)"
   ]
  }
 ],
 "metadata": {
  "kernelspec": {
   "display_name": "Python 3 (ipykernel)",
   "language": "python",
   "name": "python3"
  },
  "language_info": {
   "codemirror_mode": {
    "name": "ipython",
    "version": 3
   },
   "file_extension": ".py",
   "mimetype": "text/x-python",
   "name": "python",
   "nbconvert_exporter": "python",
   "pygments_lexer": "ipython3",
   "version": "3.8.0"
  }
 },
 "nbformat": 4,
 "nbformat_minor": 5
}
