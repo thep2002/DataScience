{
 "cells": [
  {
   "cell_type": "code",
   "execution_count": 40,
   "metadata": {
    "collapsed": true
   },
   "outputs": [],
   "source": [
    "import pandas as pd\n",
    "import numpy as np\n",
    "import re"
   ]
  },
  {
   "cell_type": "code",
   "execution_count": 41,
   "metadata": {},
   "outputs": [],
   "source": [
    "# problem :\n",
    "#  chưa EDA \n",
    "#  chưa xử lý missing value --> thay bằng null\n",
    "#  chưa check outlier và xử lý --> IQR\n",
    "#  feature engineering: cụ thể cách chọn feature, feature nào quan trọng ? \n",
    "\n",
    "#  Hyper parameter effect on model, choose best hyper parameter\n",
    "#  some main behavior of model, how to improve model\n",
    "#  discovered some interesting things about data\n",
    "\n",
    "\n",
    "# 'modelDate', 'model',\n",
    "\n",
    "# 'emissionsCO2', \n",
    "# 'engineCapacity','fuelCapacity', 'vEengineType',\n",
    "\n",
    "# 'fuelConsumption',  'height', 'length',\n",
    "# 'numberOfDoors', 'numberOfForwardGears',\n",
    "# 'payload', 'price', 'roofLoad', 'seatingCapacity',\n",
    "\n",
    "# 'speed', 'torque','vEengineDisplacement', 'vEenginePower', 'weightTotal', 'wheelbase', 'width'"
   ]
  },
  {
   "cell_type": "markdown",
   "metadata": {},
   "source": [
    "accelerationTime, 'brand', 'curbWeight', 'eLabel',,'cargoVolume', 'bodyType', 'driveWheelConfiguration', 'vehicleTransmission',\n",
    "\n",
    "'fuelType',"
   ]
  },
  {
   "cell_type": "code",
   "execution_count": 42,
   "metadata": {
    "collapsed": false,
    "pycharm": {
     "name": "#%%\n"
    }
   },
   "outputs": [
    {
     "name": "stdout",
     "output_type": "stream",
     "text": [
      "<class 'pandas.core.frame.DataFrame'>\n",
      "RangeIndex: 26304 entries, 0 to 26303\n",
      "Data columns (total 31 columns):\n",
      " #   Column                   Non-Null Count  Dtype  \n",
      "---  ------                   --------------  -----  \n",
      " 0   accelerationTime         26304 non-null  float64\n",
      " 1   bodyType                 26304 non-null  object \n",
      " 2   brand                    26304 non-null  object \n",
      " 3   cargoVolume              26304 non-null  float64\n",
      " 4   curbWeight               26304 non-null  float64\n",
      " 5   driveWheelConfiguration  26304 non-null  object \n",
      " 6   eLabel                   26304 non-null  object \n",
      " 7   emissionsCO2             26304 non-null  float64\n",
      " 8   engineCapacity           26304 non-null  float64\n",
      " 9   fuelCapacity             26304 non-null  float64\n",
      " 10  fuelConsumption          26304 non-null  float64\n",
      " 11  fuelType                 26304 non-null  object \n",
      " 12  height                   26304 non-null  float64\n",
      " 13  length                   26304 non-null  float64\n",
      " 14  model                    26304 non-null  object \n",
      " 15  modelDate                26304 non-null  int64  \n",
      " 16  numberOfDoors            26304 non-null  int64  \n",
      " 17  numberOfForwardGears     26304 non-null  int64  \n",
      " 18  payload                  26304 non-null  float64\n",
      " 19  price                    26304 non-null  float64\n",
      " 20  roofLoad                 26304 non-null  float64\n",
      " 21  seatingCapacity          26304 non-null  float64\n",
      " 22  speed                    26304 non-null  float64\n",
      " 23  torque                   26304 non-null  float64\n",
      " 24  vEengineDisplacement     26304 non-null  float64\n",
      " 25  vEenginePower            26304 non-null  float64\n",
      " 26  vEengineType             26304 non-null  object \n",
      " 27  vehicleTransmission      26304 non-null  object \n",
      " 28  weightTotal              26304 non-null  float64\n",
      " 29  wheelbase                26304 non-null  float64\n",
      " 30  width                    26304 non-null  float64\n",
      "dtypes: float64(20), int64(3), object(8)\n",
      "memory usage: 6.2+ MB\n"
     ]
    }
   ],
   "source": [
    "df = pd.read_csv('dataset/cars_data_cleaning_17.csv')\n",
    "df.info(verbose=True)\n"
   ]
  },
  {
   "cell_type": "code",
   "execution_count": 43,
   "metadata": {},
   "outputs": [
    {
     "data": {
      "text/plain": [
       "(['2-doors, convertible',\n",
       "  '2-doors, coupé',\n",
       "  '2-doors, hatchback',\n",
       "  '2-doors, van',\n",
       "  '3-doors, convertible',\n",
       "  '3-doors, coupé',\n",
       "  '3-doors, hatchback',\n",
       "  '3-doors, mpv',\n",
       "  '3-doors, suv/crossover',\n",
       "  '3-doors, van',\n",
       "  '4-doors, bus',\n",
       "  '4-doors, coupé',\n",
       "  '4-doors, mpv',\n",
       "  '4-doors, sedan',\n",
       "  '4-doors, station wagon',\n",
       "  '4-doors, van',\n",
       "  '5-doors, bus',\n",
       "  '5-doors, double cabin',\n",
       "  '5-doors, hatchback',\n",
       "  '5-doors, mpv',\n",
       "  '5-doors, station wagon',\n",
       "  '5-doors, suv/crossover',\n",
       "  '5-doors, van'],\n",
       " 23)"
      ]
     },
     "execution_count": 43,
     "metadata": {},
     "output_type": "execute_result"
    }
   ],
   "source": [
    "bodyType_list = df['bodyType'].unique().tolist()\n",
    "bodyType_list.sort()\n",
    "bodyType_list, len(bodyType_list)"
   ]
  },
  {
   "cell_type": "code",
   "execution_count": null,
   "metadata": {},
   "outputs": [],
   "source": []
  },
  {
   "cell_type": "code",
   "execution_count": 44,
   "metadata": {
    "collapsed": false,
    "pycharm": {
     "name": "#%%\n"
    }
   },
   "outputs": [
    {
     "data": {
      "text/plain": [
       "0        13\n",
       "1        13\n",
       "2        13\n",
       "3        13\n",
       "4        13\n",
       "         ..\n",
       "26299     5\n",
       "26300     5\n",
       "26301     5\n",
       "26302     5\n",
       "26303     5\n",
       "Name: bodyType, Length: 26304, dtype: int64"
      ]
     },
     "execution_count": 44,
     "metadata": {},
     "output_type": "execute_result"
    }
   ],
   "source": [
    "# bodyType\n",
    "# no null value\n",
    "bodyType_list = df['bodyType'].unique().tolist()\n",
    "bodyType_list.sort()\n",
    "\n",
    "for idx, value in enumerate(bodyType_list):\n",
    "    df['bodyType'] = df['bodyType'].replace(value, idx)\n",
    "\n",
    "df['bodyType']"
   ]
  },
  {
   "cell_type": "code",
   "execution_count": 45,
   "metadata": {
    "collapsed": false,
    "pycharm": {
     "name": "#%%\n"
    }
   },
   "outputs": [
    {
     "name": "stdout",
     "output_type": "stream",
     "text": [
      "Number of unique brand :43\n"
     ]
    },
    {
     "data": {
      "text/plain": [
       "0        16\n",
       "1        16\n",
       "2        16\n",
       "3        16\n",
       "4        16\n",
       "         ..\n",
       "26299     1\n",
       "26300     1\n",
       "26301     1\n",
       "26302     1\n",
       "26303     1\n",
       "Name: brand, Length: 26304, dtype: int64"
      ]
     },
     "execution_count": 45,
     "metadata": {},
     "output_type": "execute_result"
    }
   ],
   "source": [
    "# brand\n",
    "# no null value\n",
    "brand_list = df['brand'].unique().tolist()\n",
    "brand_list.sort()\n",
    "print(f'Number of unique brand :{len(brand_list)}')\n",
    "for idx, value in enumerate(brand_list):\n",
    "    df['brand'] = df['brand'].replace(value, idx)\n",
    "df['brand']\n"
   ]
  },
  {
   "cell_type": "code",
   "execution_count": null,
   "metadata": {},
   "outputs": [],
   "source": []
  },
  {
   "cell_type": "code",
   "execution_count": 46,
   "metadata": {
    "collapsed": false,
    "pycharm": {
     "name": "#%%\n"
    }
   },
   "outputs": [
    {
     "data": {
      "text/plain": [
       "(0, 0)"
      ]
     },
     "execution_count": 46,
     "metadata": {},
     "output_type": "execute_result"
    }
   ],
   "source": [
    "# curbWeight\n",
    "# number already\n",
    "df['curbWeight'].isna().sum(), df['cargoVolume'].isna().sum()"
   ]
  },
  {
   "cell_type": "code",
   "execution_count": 47,
   "metadata": {},
   "outputs": [],
   "source": [
    "# driveWheelConfiguration\n",
    "# driver_config_list = df['driveWheelConfiguration'].unique().tolist()\n",
    "# driver_config_list.sort()\n",
    "\n",
    "# driver_config_list\n",
    "\n",
    "\n",
    "# print(f'Number of unique driver config :{len(driver_config_list)}')\n",
    "\n",
    "# for idx, value in enumerate(driver_config_list):\n",
    "#     df['driveWheelConfiguration'] = df['driveWheelConfiguration'].replace(value, idx)\n",
    "\n",
    "# df['driveWheelConfiguration']"
   ]
  },
  {
   "cell_type": "code",
   "execution_count": 48,
   "metadata": {},
   "outputs": [],
   "source": [
    "def encode_drive_config(config):\n",
    "    if config == 'front':\n",
    "        return [1, 0]\n",
    "    elif config == 'rear':\n",
    "        return [0, 1]\n",
    "    elif config == 'front+rear':\n",
    "        return [1, 1]\n",
    "    else:\n",
    "        return [0, 0]  # Default case, if needed\n",
    "\n",
    "# Apply the encoding function to the 'driveWheelConfiguration' column\n",
    "df[['driveConfig_front', 'driveConfig_rear']] = pd.DataFrame(df['driveWheelConfiguration'].apply(encode_drive_config).tolist(), index=df.index)\n"
   ]
  },
  {
   "cell_type": "code",
   "execution_count": 49,
   "metadata": {},
   "outputs": [
    {
     "data": {
      "text/plain": [
       "driveWheelConfiguration\n",
       "front         19352\n",
       "front+rear     3620\n",
       "rear           3332\n",
       "Name: count, dtype: int64"
      ]
     },
     "execution_count": 49,
     "metadata": {},
     "output_type": "execute_result"
    }
   ],
   "source": [
    "df['driveWheelConfiguration'].value_counts()"
   ]
  },
  {
   "cell_type": "code",
   "execution_count": 50,
   "metadata": {
    "collapsed": false,
    "pycharm": {
     "name": "#%%\n"
    }
   },
   "outputs": [
    {
     "name": "stdout",
     "output_type": "stream",
     "text": [
      "Number of unique not null eLabel: 7\n"
     ]
    },
    {
     "data": {
      "text/plain": [
       "0        6\n",
       "1        6\n",
       "2        6\n",
       "3        6\n",
       "4        6\n",
       "        ..\n",
       "26299    6\n",
       "26300    6\n",
       "26301    6\n",
       "26302    6\n",
       "26303    6\n",
       "Name: eLabel, Length: 26304, dtype: int64"
      ]
     },
     "execution_count": 50,
     "metadata": {},
     "output_type": "execute_result"
    }
   ],
   "source": [
    "# eLabel\n",
    "# have null value\n",
    "elabel_list = df['eLabel'].dropna().unique().tolist()\n",
    "elabel_list.sort()\n",
    "print(f'Number of unique not null eLabel: {len(elabel_list)}')\n",
    "\n",
    "for idx, value in enumerate(elabel_list):\n",
    "    df['eLabel'] = df['eLabel'].replace(value, idx)\n",
    "\n",
    "# df['eLabel'] = df['eLabel'].fillna(value=len(elabel_list))\n",
    "df['eLabel']"
   ]
  },
  {
   "cell_type": "code",
   "execution_count": null,
   "metadata": {},
   "outputs": [],
   "source": []
  },
  {
   "cell_type": "code",
   "execution_count": 51,
   "metadata": {
    "collapsed": false,
    "pycharm": {
     "name": "#%%\n"
    }
   },
   "outputs": [
    {
     "data": {
      "text/plain": [
       "0        174.0\n",
       "1        210.0\n",
       "2        196.0\n",
       "3        229.0\n",
       "4        184.0\n",
       "         ...  \n",
       "26299    295.0\n",
       "26300    178.0\n",
       "26301    159.0\n",
       "26302    159.0\n",
       "26303    178.0\n",
       "Name: emissionsCO2, Length: 26304, dtype: float64"
      ]
     },
     "execution_count": 51,
     "metadata": {},
     "output_type": "execute_result"
    }
   ],
   "source": [
    "# emission\n",
    "# already number\n",
    "df['emissionsCO2']"
   ]
  },
  {
   "cell_type": "code",
   "execution_count": 52,
   "metadata": {},
   "outputs": [],
   "source": [
    "# drop fuelType \n",
    "df = df.drop(columns=['fuelType'])"
   ]
  },
  {
   "cell_type": "code",
   "execution_count": 53,
   "metadata": {
    "collapsed": false,
    "pycharm": {
     "name": "#%%\n"
    }
   },
   "outputs": [],
   "source": [
    "# # fuelType\n",
    "# fuel_class = df['fuelType'].dropna().unique().tolist()\n",
    "# fuel_class"
   ]
  },
  {
   "cell_type": "code",
   "execution_count": 54,
   "metadata": {},
   "outputs": [],
   "source": [
    "# for idx, value in enumerate(fuel_class):\n",
    "#     df['fuelType'] = df['fuelType'].replace(value, idx)\n",
    "\n",
    "# df['fuelType']"
   ]
  },
  {
   "cell_type": "code",
   "execution_count": 55,
   "metadata": {},
   "outputs": [],
   "source": [
    "# df['fuelType'].value_counts()"
   ]
  },
  {
   "cell_type": "code",
   "execution_count": 56,
   "metadata": {
    "collapsed": false,
    "pycharm": {
     "name": "#%%\n"
    }
   },
   "outputs": [],
   "source": [
    "# # Gasoline / bio ethanol is same as Bio ethanol / gasoline\n",
    "# num_class = len(fuel_class) - 1 + 1 # minus 1 trung + 1 null\n",
    "\n",
    "# repair = []\n",
    "# for value in df['fuelType']:\n",
    "#     if value in fuel_class:\n",
    "#         if value == \"Bio ethanol / gasoline\" or value == \"Gasoline / bio ethanol\":\n",
    "#             repair.append(len(fuel_class) - 2)\n",
    "#         else:\n",
    "#             repair.append(fuel_class.index(value))\n",
    "#     else:\n",
    "#         repair.append(len(fuel_class) - 1)\n",
    "# # print(repair[:10])\n",
    "# # print( df['fuelType'].iloc[:10])\n",
    "# df['fuelType'] = repair\n",
    "# df['fuelType']"
   ]
  },
  {
   "cell_type": "code",
   "execution_count": 57,
   "metadata": {},
   "outputs": [],
   "source": [
    "#  drop vEengineType\n",
    "df = df.drop(columns=['vEengineType'])"
   ]
  },
  {
   "cell_type": "code",
   "execution_count": 58,
   "metadata": {
    "collapsed": false,
    "pycharm": {
     "name": "#%%\n"
    }
   },
   "outputs": [],
   "source": [
    "# vEengineType\n",
    "# not null value\n",
    "# EngineType_list = df['vEengineType'].unique().tolist()\n",
    "# EngineType_list.sort()\n",
    "# print('list engineType: ', EngineType_list)\n",
    "# print('value count: ', df['vEengineType'].value_counts())\n",
    "\n",
    "# for idx, value in enumerate(EngineType_list):\n",
    "#     df['vEengineType'] = df['vEengineType'].replace(value, idx)\n",
    "\n",
    "# df['vEengineType']"
   ]
  },
  {
   "cell_type": "code",
   "execution_count": 59,
   "metadata": {},
   "outputs": [
    {
     "data": {
      "text/plain": [
       "<Axes: ylabel='count'>"
      ]
     },
     "execution_count": 59,
     "metadata": {},
     "output_type": "execute_result"
    },
    {
     "data": {
      "image/png": "[encoded data removed]",
      "text/plain": [
       "<Figure size 1000x1000 with 1 Axes>"
      ]
     },
     "metadata": {},
     "output_type": "display_data"
    }
   ],
   "source": [
    "# pie chart of vehicleTransmission\n",
    "df['vehicleTransmission'].value_counts().plot(kind='pie', autopct='%1.1f%%', figsize=(10, 10))"
   ]
  },
  {
   "cell_type": "code",
   "execution_count": 60,
   "metadata": {
    "collapsed": false,
    "pycharm": {
     "name": "#%%\n"
    }
   },
   "outputs": [
    {
     "name": "stdout",
     "output_type": "stream",
     "text": [
      "unique list:  ['Automatic', 'Automatic with double clutch', 'Manual transmission', 'Semi-automatic']\n",
      "value count:  vehicleTransmission\n",
      "Manual transmission             16101\n",
      "Automatic                        7404\n",
      "Automatic with double clutch     2239\n",
      "Semi-automatic                    560\n",
      "Name: count, dtype: int64\n"
     ]
    },
    {
     "data": {
      "text/plain": [
       "0        2\n",
       "1        0\n",
       "2        2\n",
       "3        0\n",
       "4        2\n",
       "        ..\n",
       "26299    2\n",
       "26300    2\n",
       "26301    2\n",
       "26302    2\n",
       "26303    2\n",
       "Name: vehicleTransmission, Length: 26304, dtype: int64"
      ]
     },
     "execution_count": 60,
     "metadata": {},
     "output_type": "execute_result"
    }
   ],
   "source": [
    "# vehicleTransmission\n",
    "# no null value\n",
    "vehicleTrans_list = df['vehicleTransmission'].unique().tolist()\n",
    "vehicleTrans_list.sort()\n",
    "\n",
    "print('unique list: ', vehicleTrans_list)\n",
    "print('value count: ', df['vehicleTransmission'].value_counts())\n",
    "for idx, value in enumerate(vehicleTrans_list):\n",
    "    df['vehicleTransmission'] = df['vehicleTransmission'].replace(value, idx)\n",
    "\n",
    "df['vehicleTransmission']\n"
   ]
  },
  {
   "cell_type": "code",
   "execution_count": 61,
   "metadata": {},
   "outputs": [
    {
     "name": "stdout",
     "output_type": "stream",
     "text": [
      "<class 'pandas.core.frame.DataFrame'>\n",
      "RangeIndex: 26304 entries, 0 to 26303\n",
      "Data columns (total 31 columns):\n",
      " #   Column                   Non-Null Count  Dtype  \n",
      "---  ------                   --------------  -----  \n",
      " 0   accelerationTime         26304 non-null  float64\n",
      " 1   bodyType                 26304 non-null  int64  \n",
      " 2   brand                    26304 non-null  int64  \n",
      " 3   cargoVolume              26304 non-null  float64\n",
      " 4   curbWeight               26304 non-null  float64\n",
      " 5   driveWheelConfiguration  26304 non-null  object \n",
      " 6   eLabel                   26304 non-null  int64  \n",
      " 7   emissionsCO2             26304 non-null  float64\n",
      " 8   engineCapacity           26304 non-null  float64\n",
      " 9   fuelCapacity             26304 non-null  float64\n",
      " 10  fuelConsumption          26304 non-null  float64\n",
      " 11  height                   26304 non-null  float64\n",
      " 12  length                   26304 non-null  float64\n",
      " 13  model                    26304 non-null  object \n",
      " 14  modelDate                26304 non-null  int64  \n",
      " 15  numberOfDoors            26304 non-null  int64  \n",
      " 16  numberOfForwardGears     26304 non-null  int64  \n",
      " 17  payload                  26304 non-null  float64\n",
      " 18  price                    26304 non-null  float64\n",
      " 19  roofLoad                 26304 non-null  float64\n",
      " 20  seatingCapacity          26304 non-null  float64\n",
      " 21  speed                    26304 non-null  float64\n",
      " 22  torque                   26304 non-null  float64\n",
      " 23  vEengineDisplacement     26304 non-null  float64\n",
      " 24  vEenginePower            26304 non-null  float64\n",
      " 25  vehicleTransmission      26304 non-null  int64  \n",
      " 26  weightTotal              26304 non-null  float64\n",
      " 27  wheelbase                26304 non-null  float64\n",
      " 28  width                    26304 non-null  float64\n",
      " 29  driveConfig_front        26304 non-null  int64  \n",
      " 30  driveConfig_rear         26304 non-null  int64  \n",
      "dtypes: float64(20), int64(9), object(2)\n",
      "memory usage: 6.2+ MB\n"
     ]
    }
   ],
   "source": [
    "df.info(verbose=True)"
   ]
  },
  {
   "cell_type": "code",
   "execution_count": 62,
   "metadata": {},
   "outputs": [
    {
     "data": {
      "text/plain": [
       "model\n",
       "Audi A3                     437\n",
       "BMW 3-series                365\n",
       "Audi A3 Sportback           357\n",
       "Opel Corsa                  352\n",
       "Mercedes-Benz C-class       327\n",
       "                           ... \n",
       "Toyota MR2                    1\n",
       "Mitsubishi Space Wagon        1\n",
       "Mitsubishi Outlander Van      1\n",
       "Fiat Punto Cabrio             1\n",
       "Mitsubishi Pajero Pinin       1\n",
       "Name: count, Length: 724, dtype: int64"
      ]
     },
     "execution_count": 62,
     "metadata": {},
     "output_type": "execute_result"
    }
   ],
   "source": [
    "df['model'].value_counts()"
   ]
  },
  {
   "cell_type": "code",
   "execution_count": 63,
   "metadata": {
    "collapsed": false,
    "pycharm": {
     "name": "#%%\n"
    }
   },
   "outputs": [],
   "source": [
    "df.to_csv('convert_number_data.csv', index=False)"
   ]
  },
  {
   "cell_type": "code",
   "execution_count": 64,
   "metadata": {},
   "outputs": [
    {
     "name": "stdout",
     "output_type": "stream",
     "text": [
      "unique list:  ['Abarth 595', 'Abarth 595 Cabrio', 'Alfa Romeo 147', 'Alfa Romeo 159', 'Alfa Romeo 159 Sportwagon', 'Alfa Romeo 166', 'Alfa Romeo Brera', 'Alfa Romeo GT', 'Alfa Romeo Giulietta', 'Audi A1', 'Audi A1 Sportback', 'Audi A2', 'Audi A3', 'Audi A3 Cabriolet', 'Audi A3 Limousine', 'Audi A3 Sportback', 'Audi A4', 'Audi A4 Allroad', 'Audi A4 Avant', 'Audi A4 allroad', 'Audi A5 Cabriolet', 'Audi A5 Coupe', 'Audi A5 Sportback', 'Audi A6', 'Audi A6 Allroad', 'Audi A6 Avant', 'Audi A6 allroad', 'Audi A7 Sportback', 'Audi A8', 'Audi Q2', 'Audi Q3', 'Audi Q3 Sportback', 'Audi Q5', 'Audi RS3 Sportback', 'Audi S1', 'Audi S1 Sportback', 'Audi S3', 'Audi S3 Cabriolet', 'Audi S3 Limousine', 'Audi S3 Sportback', 'Audi S4', 'Audi S4 Avant', 'Audi S5 Cabriolet', 'Audi S5 Coupe', 'Audi S5 Sportback', 'Audi TT Coupe', 'Audi TT Roadster', 'BMW 1-series', 'BMW 1-series Coupe', 'BMW 2-series Active Tourer', 'BMW 2-series Cabrio', 'BMW 2-series Coupe', 'BMW 2-series Gran Coupe', 'BMW 2-series Gran Tourer', 'BMW 3-series', 'BMW 3-series Cabrio', 'BMW 3-series Compact', 'BMW 3-series Coupe', 'BMW 3-series Gran Turismo', 'BMW 3-series Touring', 'BMW 3-series touring', 'BMW 4-series Cabrio', 'BMW 4-series Coupe', 'BMW 4-series Gran Coupe', 'BMW 5-series', 'BMW 5-series Gran Turismo', 'BMW 5-series Touring', 'BMW 5-series touring', 'BMW 6-series Cabrio', 'BMW 6-series Coupe', 'BMW 6-series GT', 'BMW 6-series Gran Coupe', 'BMW 7-series', 'BMW X1', 'BMW X2', 'BMW X3', 'BMW X4', 'BMW X5', 'BMW X6', 'BMW Z3 coupe', 'BMW Z3 roadster', 'BMW Z4 Roadster', 'Cadillac BLS', 'Cadillac BLS Wagon', 'Cadillac SRX', 'Chevrolet Aveo', 'Chevrolet Captiva', 'Chevrolet Cruze', 'Chevrolet Cruze Stationwagon', 'Chevrolet Epica', 'Chevrolet HHR', 'Chevrolet Kalos', 'Chevrolet Lacetti', 'Chevrolet Matiz', 'Chevrolet Nubira', 'Chevrolet Nubira Station Wagon', 'Chevrolet Orlando', 'Chevrolet Spark', 'Chrysler 300C', 'Chrysler Grand Voyager', 'Chrysler PT Cruiser', 'Citroen Berlingo', 'Citroen Berlingo Multispace', 'Citroen Berlingo Van', 'Citroen C-Crosser', 'Citroen C-Crosser Van', 'Citroen C1', 'Citroen C2', 'Citroen C3', 'Citroen C3 Aircross', 'Citroen C3 Picasso', 'Citroen C3 Pluriel', 'Citroen C4', 'Citroen C4 Cactus', 'Citroen C4 Coupe', 'Citroen C4 Picasso', 'Citroen C4 SpaceTourer', 'Citroen C5', 'Citroen C5 Aircross', 'Citroen C5 Break', 'Citroen C5 Tourer', 'Citroen C6', 'Citroen C8', 'Citroen DS3', 'Citroen DS3 Cabrio', 'Citroen DS4', 'Citroen DS5', 'Citroen Evasion', 'Citroen Grand C4 Picasso', 'Citroen Grand C4 SpaceTourer', 'Citroen Nemo', 'Citroen Saxo', 'Citroen SpaceTourer', 'Citroen XM', 'Citroen XM Break', 'Citroen Xantia', 'Citroen Xantia Break', 'Citroen Xsara', 'Citroen Xsara Break', 'Citroen Xsara Coupe', 'Citroen Xsara Picasso', 'DS 4', 'DS 4 Crossback', 'DS 5', 'DS DS3', 'DS DS3 Cabrio', 'DS DS7 Crossback', 'Dacia Logan', 'Dacia Logan MCV', 'Dacia Logan Van', 'Dacia Sandero', 'Daewoo Kalos', 'Daewoo Lacetti', 'Daewoo Nubira', 'Daihatsu Applause', 'Daihatsu Charade', 'Daihatsu Cuore', 'Daihatsu Gran Move', 'Daihatsu Materia', 'Daihatsu Move', 'Daihatsu Rocky', 'Daihatsu Sirion', 'Daihatsu Sirion 2', 'Daihatsu Terios', 'Daihatsu Trevis', 'Daihatsu Young RV', 'Dodge Caliber', 'Dodge Journey', 'Fiat 500', 'Fiat 500C', 'Fiat Brava', 'Fiat Bravo', 'Fiat Coupe', 'Fiat Croma', 'Fiat Doblo', 'Fiat Grande Punto', 'Fiat Marea', 'Fiat Marea Weekend', 'Fiat Multipla', 'Fiat Panda', 'Fiat Panda Classic', 'Fiat Punto', 'Fiat Punto Cabrio', 'Fiat Punto Evo', 'Fiat Sedici', 'Fiat Ulysse', 'Ford C-MAX', 'Ford Cougar', 'Ford EcoSport', 'Ford Edge', 'Ford Escort', 'Ford Escort Wagon', 'Ford Fiesta', 'Ford Focus', 'Ford Focus Wagon', 'Ford Fusion', 'Ford Galaxy', 'Ford Ka', 'Ford Ka+', 'Ford Kuga', 'Ford Mondeo', 'Ford Mondeo Wagon', 'Ford Puma', 'Ford Tourneo Connect', 'Honda Accord', 'Honda Accord Tourer', 'Honda CR-V', 'Honda CR-Z', 'Honda Civic', 'Honda Civic Aero Deck', 'Honda Civic Coupe', 'Honda Civic Tourer', 'Honda Civic Type S', 'Honda FR-V', 'Honda HR-V', 'Honda Jazz', 'Honda Logo', 'Honda Shuttle', 'Honda Stream', 'Hyundai Accent', 'Hyundai Atos', 'Hyundai Coupe', 'Hyundai Elantra', 'Hyundai Excel', 'Hyundai Genesis Coupe', 'Hyundai H300', 'Hyundai H300 Dubbele Cabine', 'Hyundai Kona', 'Hyundai Lantra', 'Hyundai Lantra Wagon', 'Hyundai Matrix', 'Hyundai Santa Fe', 'Hyundai Santa Fe Van', 'Hyundai Sonata', 'Hyundai Terracan', 'Hyundai Trajet', 'Hyundai Tucson', 'Hyundai i10', 'Hyundai i20', 'Hyundai i20 Coupe', 'Hyundai i30', 'Hyundai i30 CW', 'Hyundai i30 Fastback', 'Hyundai i30 Wagon', 'Hyundai i40', 'Hyundai i40 Wagon', 'Hyundai ix20', 'Hyundai ix35', 'Jaguar E-Pace', 'Jaguar F-Pace', 'Jaguar F-type Convertible', 'Jaguar F-type Coupe', 'Jaguar S-Type', 'Jaguar X-Type', 'Jaguar X-Type Estate', 'Jaguar XE', 'Jaguar XF', 'Jaguar XF Sportbrake', 'Jaguar XJ', 'Jeep Cherokee', 'Jeep Compass', 'Jeep Grand Cherokee', 'Jeep Grand Cherokee Van', 'Kia Carens', 'Kia Carnival', 'Kia Ceed', 'Kia Ceed SW', 'Kia Ceed Sportswagon', 'Kia Ceed Sporty Wagon', 'Kia Cerato', 'Kia Clarus', 'Kia Clarus Wagon', 'Kia Magentis', 'Kia Niro', 'Kia Optima', 'Kia Optima SW', 'Kia Picanto', 'Kia Pride Wagon', 'Kia ProCeed', 'Kia Pro_Ceed', 'Kia Rio', 'Kia Sephia', 'Kia Shuma', 'Kia Sorento', 'Kia Sorento Van', 'Kia Soul', 'Kia Sportage', 'Kia Stinger', 'Kia Stonic', 'Kia Venga', 'Kia XCeed', 'Lancia Dedra', 'Lancia Dedra SW', 'Lancia Delta', 'Lancia Delta HPE', 'Lancia Kappa', 'Lancia Kappa Coupe', 'Lancia Kappa SW', 'Lancia Lybra', 'Lancia Lybra SW', 'Lancia Phedra', 'Lancia Thesis', 'Lancia Ypsilon', 'Land Rover Defender 110', 'Land Rover Defender 90', 'Land Rover Discovery', 'Land Rover Discovery Sport', 'Land Rover Freelander', 'Land Rover Freelander Hardback', 'Land Rover Freelander Softback', 'Land Rover Freelander Station Wagon', 'Land Rover Range Rover Evoque', 'Land Rover Range Rover Evoque Convertible', 'Land Rover Range Rover Evoque Coupe', 'Land Rover Range Rover Sport', 'Lexus GS', 'Lexus IS', 'Lexus IS SportCross', 'Lexus RX', 'MG ZR', 'MG ZS', 'MG ZT', 'MG ZT-T', 'Mazda 121', 'Mazda 2', 'Mazda 3', 'Mazda 3 Sedan', 'Mazda 3 Sport', 'Mazda 323 FastBreak', 'Mazda 323 P', 'Mazda 323 Sedan', 'Mazda 5', 'Mazda 6', 'Mazda 6 Sport', 'Mazda 6 SportBreak', 'Mazda 626', 'Mazda 626 Wagon', 'Mazda CX-3', 'Mazda CX-30', 'Mazda CX-5', 'Mazda Demio', 'Mazda MPV', 'Mazda MX-5', 'Mazda MX-5 RF', 'Mazda Premacy', 'Mazda RX-8', 'Mazda Tribute', 'Mazda Xedos 9', 'Mercedes-Benz A-class', 'Mercedes-Benz A-class Coupe', 'Mercedes-Benz A-class Lang', 'Mercedes-Benz A-class Limousine', 'Mercedes-Benz B-class', 'Mercedes-Benz C-class', 'Mercedes-Benz C-class Cabriolet', 'Mercedes-Benz C-class Combi', 'Mercedes-Benz C-class Coupe', 'Mercedes-Benz C-class Estate', 'Mercedes-Benz C-class Sportcoupe', 'Mercedes-Benz C-class Sports Coupe', 'Mercedes-Benz CLA Coupe', 'Mercedes-Benz CLA Shooting Brake', 'Mercedes-Benz CLC', 'Mercedes-Benz CLK', 'Mercedes-Benz CLK Cabriolet', 'Mercedes-Benz CLS', 'Mercedes-Benz CLS Shooting Brake', 'Mercedes-Benz Citan', 'Mercedes-Benz Citan Tourer', 'Mercedes-Benz E-class', 'Mercedes-Benz E-class All-Terrain', 'Mercedes-Benz E-class Cabriolet', 'Mercedes-Benz E-class Combi', 'Mercedes-Benz E-class Coupe', 'Mercedes-Benz E-class Estate', 'Mercedes-Benz G-class Stationwagon Kort', 'Mercedes-Benz G-class Stationwagon Lang', 'Mercedes-Benz GLA', 'Mercedes-Benz GLC', 'Mercedes-Benz GLC Coupe', 'Mercedes-Benz GLE', 'Mercedes-Benz GLE Coupe', 'Mercedes-Benz GLK', 'Mercedes-Benz M-class', 'Mercedes-Benz S-class', 'Mercedes-Benz SL', 'Mercedes-Benz SLC', 'Mercedes-Benz SLK', 'Mercedes-Benz V-class', 'Mercedes-Benz Vaneo', 'Mercedes-Benz Viano', 'Mercedes-Benz Viano Combi', 'Mercedes-Benz Viano Dubbelcabine', 'Mercedes-Benz Viano Van', 'Mini Cabrio', 'Mini Clubman', 'Mini Countryman', 'Mini Coupe', 'Mini Mini', 'Mini Paceman', 'Mini Roadster', 'Mitsubishi ASX', 'Mitsubishi Carisma', 'Mitsubishi Colt', 'Mitsubishi Colt CZ3', 'Mitsubishi Colt CZ5', 'Mitsubishi Colt CZC', 'Mitsubishi Galant', 'Mitsubishi Galant Station Wagon', 'Mitsubishi Grandis', 'Mitsubishi Lancer', 'Mitsubishi Lancer Wagon', 'Mitsubishi Outlander', 'Mitsubishi Outlander Sport', 'Mitsubishi Outlander Van', 'Mitsubishi Pajero', 'Mitsubishi Pajero LWB', 'Mitsubishi Pajero Long Body', 'Mitsubishi Pajero Pinin', 'Mitsubishi Pajero SWB', 'Mitsubishi Pajero Sport', 'Mitsubishi Space Runner', 'Mitsubishi Space Star', 'Mitsubishi Space Wagon', 'Nissan 200 SX', 'Nissan Almera', 'Nissan Almera Tino', 'Nissan Juke', 'Nissan Maxima QX', 'Nissan Micra', 'Nissan Micra C+C', 'Nissan NV300', 'Nissan Note', 'Nissan Pathfinder', 'Nissan Pathfinder Van', 'Nissan Patrol GR', 'Nissan Primastar', 'Nissan Primastar Combi', 'Nissan Primera', 'Nissan Primera Estate', 'Nissan Primera Wagon', 'Nissan Pulsar', 'Nissan Qashqai', 'Nissan Qashqai+2', 'Nissan Qashqai+2 Van', 'Nissan Terrano', 'Nissan Terrano II', 'Nissan X-Trail', 'Nissan X-Trail Van', 'Opel Adam', 'Opel Agila', 'Opel Antara', 'Opel Astra', 'Opel Astra Coupe', 'Opel Astra GTC', 'Opel Astra Sports Tourer', 'Opel Astra Sports Tourer Van', 'Opel Astra Stationwagon', 'Opel Cascada', 'Opel Combo Tour', 'Opel Corsa', 'Opel Crossland X', 'Opel Frontera Sport', 'Opel Frontera Wagon', 'Opel Grandland X', 'Opel Insignia', 'Opel Insignia Country Tourer', 'Opel Insignia Grand Sport', 'Opel Insignia Sports Tourer', 'Opel Meriva', 'Opel Mokka', 'Opel Mokka X', 'Opel Omega', 'Opel Omega Stationwagon', 'Opel Signum', 'Opel Sintra', 'Opel Tigra', 'Opel Tour', 'Opel Vectra', 'Opel Vectra GTS', 'Opel Vectra Stationwagon', 'Opel Vivaro', 'Opel Vivaro Combi', 'Opel Zafira', 'Peugeot 106', 'Peugeot 107', 'Peugeot 108', 'Peugeot 206', 'Peugeot 206 SW', 'Peugeot 206+', 'Peugeot 207', 'Peugeot 207 SW', 'Peugeot 208', 'Peugeot 3008', 'Peugeot 306', 'Peugeot 306 Break', 'Peugeot 308', 'Peugeot 308 SW', 'Peugeot 4007', 'Peugeot 407 Coupe', 'Peugeot 5008', 'Peugeot 508', 'Peugeot 508 SW', 'Peugeot 605', 'Peugeot 806', 'Peugeot 807', 'Peugeot Partner', 'Peugeot Partner Tepee', 'Peugeot RCZ', 'Porsche 718 Boxster', 'Porsche 718 Cayman', 'Porsche Boxster', 'Porsche Cayenne', 'Porsche Cayenne Coupe', 'Porsche Cayman', 'Porsche Macan', 'Porsche Panamera', 'Renault Avantime', 'Renault Clio', 'Renault Clio Estate', 'Renault Espace', 'Renault Grand Espace', 'Renault Grand Modus', 'Renault Kadjar', 'Renault Kangoo', 'Renault Kangoo Express', 'Renault Kangoo Family', 'Renault Laguna', 'Renault Laguna Break', 'Renault Laguna Coupe', 'Renault Laguna Estate', 'Renault Laguna Grand Tour', 'Renault Megane', 'Renault Megane Break', 'Renault Megane Coupe', 'Renault Megane Scenic', 'Renault Megane Sedan', 'Renault Modus', 'Renault Safrane', 'Renault Scenic', 'Renault Scenic RX4', 'Renault Trafic', 'Renault Trafic Passenger', 'Renault Twingo', 'Renault Wind', 'Rover 200-series', 'Rover 25', 'Rover 400-series', 'Rover 75', 'Rover 75 Tourer', 'Rover Streetwise', 'Saab 9-3', 'Saab 9-3 Cabriolet', 'Saab 9-3 Coupe', 'Saab 9-3 Sport Estate', 'Saab 9-3 Sport Sedan', 'Saab 9-5', 'Saab 9-5 Estate', 'Saab 9-5 Sport Estate', 'Saab 9-5 Sport Sedan', 'Seat Alhambra', 'Seat Altea', 'Seat Altea FreeTrack', 'Seat Altea XL Stationwagon', 'Seat Arosa', 'Seat Ateca', 'Seat Cordoba', 'Seat Cordoba 2-drs', 'Seat Cordoba SX', 'Seat Cordoba Vario', 'Seat Exeo', 'Seat Exeo ST', 'Seat Ibiza', 'Seat Ibiza SC', 'Seat Ibiza ST', 'Seat Leon', 'Seat Leon SC', 'Seat Leon ST', 'Seat Leon Sportstourer', 'Seat Mii', 'Seat Toledo', 'Skoda Citigo', 'Skoda Fabia', 'Skoda Fabia Combi', 'Skoda Fabia Sedan', 'Skoda Felicia', 'Skoda Felicia Combi', 'Skoda Kamiq', 'Skoda Karoq', 'Skoda Kodiaq', 'Skoda Octavia', 'Skoda Octavia Combi', 'Skoda Rapid', 'Skoda Rapid Spaceback', 'Skoda Scala', 'Skoda Superb', 'Skoda Superb Combi', 'Skoda Yeti', 'Skoda Yeti Outdoor', 'Ssangyong Musso', 'Ssangyong Rexton', 'Subaru B9 Tribeca', 'Subaru Forester', 'Subaru Impreza', 'Subaru Impreza Plus', 'Subaru Justy', 'Subaru Legacy', 'Subaru Legacy Outback', 'Subaru Legacy Touring Wagon', 'Subaru Outback', 'Subaru Vivio', 'Subaru WRX', 'Suzuki Alto', 'Suzuki Baleno', 'Suzuki Baleno Wagon', 'Suzuki Grand Vitara', 'Suzuki Ignis', 'Suzuki Jimny', 'Suzuki Jimny Metal Top', 'Suzuki SX4', 'Suzuki Swift', 'Suzuki Vitara', 'Toyota Auris', 'Toyota Auris Touring Sports', 'Toyota Avensis', 'Toyota Avensis Touring Sports', 'Toyota Avensis Wagon', 'Toyota Aygo', 'Toyota C-HR', 'Toyota Camry', 'Toyota Celica', 'Toyota Corolla', 'Toyota Corolla Verso', 'Toyota Corolla Wagon', 'Toyota Funcruiser Hardtop', 'Toyota Funcruiser Softtop', 'Toyota Funcruiser Wagon', 'Toyota GT86', 'Toyota Land Cruiser', 'Toyota Land Cruiser High Roof Blind V', 'Toyota Land Cruiser Standard Roof Bli', 'Toyota MR2', 'Toyota Picnic', 'Toyota Previa', 'Toyota Proace', 'Toyota Proace City', 'Toyota Proace Shuttle', 'Toyota Proace Verso', 'Toyota RAV4', 'Toyota Starlet', 'Toyota Urban Cruiser', 'Toyota Verso', 'Toyota Verso Van', 'Toyota Verso-S', 'Toyota Yaris', 'Toyota Yaris Verso', 'Toyota iQ', 'Volkswagen Arteon', 'Volkswagen Beetle', 'Volkswagen Beetle Cabrio', 'Volkswagen Beetle Coupe', 'Volkswagen Bora', 'Volkswagen Bora Variant', 'Volkswagen CC', 'Volkswagen Caddy', 'Volkswagen Caddy Combi', 'Volkswagen CrossGolf', 'Volkswagen CrossPolo', 'Volkswagen CrossTouran', 'Volkswagen Fox', 'Volkswagen Golf', 'Volkswagen Golf Cabriolet', 'Volkswagen Golf Plus', 'Volkswagen Golf Sportsvan', 'Volkswagen Golf Variant', 'Volkswagen Golf Variant Van', 'Volkswagen Jetta', 'Volkswagen Lupo', 'Volkswagen Multivan', 'Volkswagen Multivan dubbele cabine', 'Volkswagen New Beetle', 'Volkswagen New Beetle Coupe', 'Volkswagen Passat', 'Volkswagen Passat Alltrack', 'Volkswagen Passat CC', 'Volkswagen Passat Variant', 'Volkswagen Phaeton', 'Volkswagen Polo', 'Volkswagen Polo Fun', 'Volkswagen Polo Sedan', 'Volkswagen Polo Variant', 'Volkswagen Scirocco', 'Volkswagen Sharan', 'Volkswagen Sharan Van', 'Volkswagen T-Cross', 'Volkswagen T-Roc', 'Volkswagen T-Roc Cabrio', 'Volkswagen Tiguan', 'Volkswagen Touareg', 'Volkswagen Touran', 'Volkswagen Touran Van', 'Volkswagen Transporter Bestelwagen', 'Volkswagen Transporter Kombi', 'Volkswagen Up', 'Volkswagen Vento', 'Volvo C30', 'Volvo S40', 'Volvo S60', 'Volvo S60 Cross Country', 'Volvo S80', 'Volvo S90', 'Volvo V40', 'Volvo V40 Cross Country', 'Volvo V50', 'Volvo V60', 'Volvo V60 Cross Country', 'Volvo V70', 'Volvo V70 Cross Country', 'Volvo V90', 'Volvo V90 Cross Country', 'Volvo XC40', 'Volvo XC60', 'Volvo XC70', 'Volvo XC90']\n",
      "value count:  model\n",
      "Audi A3                     437\n",
      "BMW 3-series                365\n",
      "Audi A3 Sportback           357\n",
      "Opel Corsa                  352\n",
      "Mercedes-Benz C-class       327\n",
      "                           ... \n",
      "Toyota MR2                    1\n",
      "Mitsubishi Space Wagon        1\n",
      "Mitsubishi Outlander Van      1\n",
      "Fiat Punto Cabrio             1\n",
      "Mitsubishi Pajero Pinin       1\n",
      "Name: count, Length: 724, dtype: int64\n"
     ]
    }
   ],
   "source": [
    "model_list = df['model'].unique().tolist()\n",
    "model_list.sort()\n",
    "print('unique list: ', model_list)\n",
    "print('value count: ', df['model'].value_counts())\n",
    "for idx, value in enumerate(model_list):\n",
    "    df['model'] = df['model'].replace(value, idx)"
   ]
  },
  {
   "cell_type": "code",
   "execution_count": 65,
   "metadata": {},
   "outputs": [
    {
     "name": "stdout",
     "output_type": "stream",
     "text": [
      "<class 'pandas.core.frame.DataFrame'>\n",
      "RangeIndex: 26304 entries, 0 to 26303\n",
      "Data columns (total 31 columns):\n",
      " #   Column                   Non-Null Count  Dtype  \n",
      "---  ------                   --------------  -----  \n",
      " 0   accelerationTime         26304 non-null  float64\n",
      " 1   bodyType                 26304 non-null  int64  \n",
      " 2   brand                    26304 non-null  int64  \n",
      " 3   cargoVolume              26304 non-null  float64\n",
      " 4   curbWeight               26304 non-null  float64\n",
      " 5   driveWheelConfiguration  26304 non-null  object \n",
      " 6   eLabel                   26304 non-null  int64  \n",
      " 7   emissionsCO2             26304 non-null  float64\n",
      " 8   engineCapacity           26304 non-null  float64\n",
      " 9   fuelCapacity             26304 non-null  float64\n",
      " 10  fuelConsumption          26304 non-null  float64\n",
      " 11  height                   26304 non-null  float64\n",
      " 12  length                   26304 non-null  float64\n",
      " 13  model                    26304 non-null  int64  \n",
      " 14  modelDate                26304 non-null  int64  \n",
      " 15  numberOfDoors            26304 non-null  int64  \n",
      " 16  numberOfForwardGears     26304 non-null  int64  \n",
      " 17  payload                  26304 non-null  float64\n",
      " 18  price                    26304 non-null  float64\n",
      " 19  roofLoad                 26304 non-null  float64\n",
      " 20  seatingCapacity          26304 non-null  float64\n",
      " 21  speed                    26304 non-null  float64\n",
      " 22  torque                   26304 non-null  float64\n",
      " 23  vEengineDisplacement     26304 non-null  float64\n",
      " 24  vEenginePower            26304 non-null  float64\n",
      " 25  vehicleTransmission      26304 non-null  int64  \n",
      " 26  weightTotal              26304 non-null  float64\n",
      " 27  wheelbase                26304 non-null  float64\n",
      " 28  width                    26304 non-null  float64\n",
      " 29  driveConfig_front        26304 non-null  int64  \n",
      " 30  driveConfig_rear         26304 non-null  int64  \n",
      "dtypes: float64(20), int64(10), object(1)\n",
      "memory usage: 6.2+ MB\n"
     ]
    }
   ],
   "source": [
    "df.info(verbose=True)"
   ]
  },
  {
   "cell_type": "code",
   "execution_count": 66,
   "metadata": {},
   "outputs": [],
   "source": [
    "#  save to csv \n",
    "df = df.drop(columns=['driveWheelConfiguration'])\n",
    "df.to_csv('dataset/convert_number_data_18.csv', index=False)"
   ]
  },
  {
   "cell_type": "code",
   "execution_count": 67,
   "metadata": {},
   "outputs": [
    {
     "data": {
      "text/plain": [
       "accelerationTime          11.200\n",
       "bodyType                  13.000\n",
       "brand                     16.000\n",
       "cargoVolume              376.000\n",
       "curbWeight              1068.000\n",
       "eLabel                     6.000\n",
       "emissionsCO2             174.000\n",
       "engineCapacity          1495.000\n",
       "fuelCapacity              55.000\n",
       "fuelConsumption            7.300\n",
       "height                  1395.000\n",
       "length                  4450.000\n",
       "model                    228.000\n",
       "modelDate               1998.000\n",
       "numberOfDoors              4.000\n",
       "numberOfForwardGears       5.000\n",
       "payload                  582.000\n",
       "price                     14.972\n",
       "roofLoad                  50.000\n",
       "seatingCapacity            5.000\n",
       "speed                    178.000\n",
       "torque                   129.000\n",
       "vEengineDisplacement    1495.000\n",
       "vEenginePower             65.000\n",
       "vehicleTransmission        2.000\n",
       "weightTotal             1650.000\n",
       "wheelbase               2550.000\n",
       "width                   1700.000\n",
       "driveConfig_front          1.000\n",
       "driveConfig_rear           0.000\n",
       "Name: 0, dtype: float64"
      ]
     },
     "execution_count": 67,
     "metadata": {},
     "output_type": "execute_result"
    }
   ],
   "source": [
    "df.iloc[0]"
   ]
  }
 ],
 "metadata": {
  "kernelspec": {
   "display_name": "Python 3",
   "language": "python",
   "name": "python3"
  },
  "language_info": {
   "codemirror_mode": {
    "name": "ipython",
    "version": 3
   },
   "file_extension": ".py",
   "mimetype": "text/x-python",
   "name": "python",
   "nbconvert_exporter": "python",
   "pygments_lexer": "ipython3",
   "version": "3.8.16"
  }
 },
 "nbformat": 4,
 "nbformat_minor": 0
}
